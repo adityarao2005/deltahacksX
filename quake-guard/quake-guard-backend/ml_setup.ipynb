{
 "cells": [
  {
   "cell_type": "markdown",
   "id": "33779ad9",
   "metadata": {},
   "source": [
    "## This is the notebook for python\n",
    "\n",
    "We are using SciKit Learn to provide us the machine learning models for earthquake prediction given a location and timestamp and in the future also predict an upcoming earthquake along with when it may occur.\n",
    "\n",
    "We are (and have) experimented with multiple different models and datasets. We used Kaggle to provide us the datasets required. The models that we've tested are Linear Regression, Multiple Regression, Decision Tree, Random Forest, and Grid Search Via Random Forest. We are also planning on testing whether neural networks would provide us a better optimization. Currently, we are testing grid search via random forest and our highest scoring models based on the ones tested already is Random Forest with an accuracy of 86%."
   ]
  },
  {
   "cell_type": "code",
   "execution_count": 1,
   "id": "38a1a470",
   "metadata": {},
   "outputs": [
    {
     "name": "stdout",
     "output_type": "stream",
     "text": [
      "Requirement already satisfied: numpy in c:\\users\\adity\\appdata\\local\\programs\\python\\python311\\lib\\site-packages (1.26.3)\n",
      "Note: you may need to restart the kernel to use updated packages.\n"
     ]
    },
    {
     "name": "stderr",
     "output_type": "stream",
     "text": [
      "\n",
      "[notice] A new release of pip is available: 23.2.1 -> 23.3.2\n",
      "[notice] To update, run: python.exe -m pip install --upgrade pip\n"
     ]
    },
    {
     "name": "stdout",
     "output_type": "stream",
     "text": [
      "Requirement already satisfied: matplotlib in c:\\users\\adity\\appdata\\local\\programs\\python\\python311\\lib\\site-packages (3.8.2)\n",
      "Requirement already satisfied: contourpy>=1.0.1 in c:\\users\\adity\\appdata\\local\\programs\\python\\python311\\lib\\site-packages (from matplotlib) (1.2.0)\n",
      "Requirement already satisfied: cycler>=0.10 in c:\\users\\adity\\appdata\\local\\programs\\python\\python311\\lib\\site-packages (from matplotlib) (0.12.1)\n",
      "Requirement already satisfied: fonttools>=4.22.0 in c:\\users\\adity\\appdata\\local\\programs\\python\\python311\\lib\\site-packages (from matplotlib) (4.47.2)\n",
      "Requirement already satisfied: kiwisolver>=1.3.1 in c:\\users\\adity\\appdata\\local\\programs\\python\\python311\\lib\\site-packages (from matplotlib) (1.4.5)\n",
      "Requirement already satisfied: numpy<2,>=1.21 in c:\\users\\adity\\appdata\\local\\programs\\python\\python311\\lib\\site-packages (from matplotlib) (1.26.3)\n",
      "Requirement already satisfied: packaging>=20.0 in c:\\users\\adity\\appdata\\roaming\\python\\python311\\site-packages (from matplotlib) (23.2)\n",
      "Requirement already satisfied: pillow>=8 in c:\\users\\adity\\appdata\\local\\programs\\python\\python311\\lib\\site-packages (from matplotlib) (10.2.0)\n",
      "Requirement already satisfied: pyparsing>=2.3.1 in c:\\users\\adity\\appdata\\local\\programs\\python\\python311\\lib\\site-packages (from matplotlib) (3.1.1)\n",
      "Requirement already satisfied: python-dateutil>=2.7 in c:\\users\\adity\\appdata\\roaming\\python\\python311\\site-packages (from matplotlib) (2.8.2)\n",
      "Requirement already satisfied: six>=1.5 in c:\\users\\adity\\appdata\\roaming\\python\\python311\\site-packages (from python-dateutil>=2.7->matplotlib) (1.16.0)\n",
      "Note: you may need to restart the kernel to use updated packages.\n"
     ]
    },
    {
     "name": "stderr",
     "output_type": "stream",
     "text": [
      "\n",
      "[notice] A new release of pip is available: 23.2.1 -> 23.3.2\n",
      "[notice] To update, run: python.exe -m pip install --upgrade pip\n"
     ]
    },
    {
     "name": "stdout",
     "output_type": "stream",
     "text": [
      "Requirement already satisfied: pandas in c:\\users\\adity\\appdata\\local\\programs\\python\\python311\\lib\\site-packages (2.2.0)\n",
      "Requirement already satisfied: numpy<2,>=1.23.2 in c:\\users\\adity\\appdata\\local\\programs\\python\\python311\\lib\\site-packages (from pandas) (1.26.3)\n",
      "Requirement already satisfied: python-dateutil>=2.8.2 in c:\\users\\adity\\appdata\\roaming\\python\\python311\\site-packages (from pandas) (2.8.2)\n",
      "Requirement already satisfied: pytz>=2020.1 in c:\\users\\adity\\appdata\\local\\programs\\python\\python311\\lib\\site-packages (from pandas) (2023.3.post1)\n",
      "Requirement already satisfied: tzdata>=2022.7 in c:\\users\\adity\\appdata\\local\\programs\\python\\python311\\lib\\site-packages (from pandas) (2023.4)\n",
      "Requirement already satisfied: six>=1.5 in c:\\users\\adity\\appdata\\roaming\\python\\python311\\site-packages (from python-dateutil>=2.8.2->pandas) (1.16.0)\n",
      "Note: you may need to restart the kernel to use updated packages.\n"
     ]
    },
    {
     "name": "stderr",
     "output_type": "stream",
     "text": [
      "\n",
      "[notice] A new release of pip is available: 23.2.1 -> 23.3.2\n",
      "[notice] To update, run: python.exe -m pip install --upgrade pip\n"
     ]
    },
    {
     "name": "stdout",
     "output_type": "stream",
     "text": [
      "Requirement already satisfied: basemap in c:\\users\\adity\\appdata\\local\\programs\\python\\python311\\lib\\site-packages (1.4.0)Note: you may need to restart the kernel to use updated packages.\n",
      "\n",
      "Requirement already satisfied: basemap-data<1.4,>=1.3.2 in c:\\users\\adity\\appdata\\local\\programs\\python\\python311\\lib\\site-packages (from basemap) (1.3.2)\n",
      "Requirement already satisfied: pyshp<2.4,>=1.2 in c:\\users\\adity\\appdata\\local\\programs\\python\\python311\\lib\\site-packages (from basemap) (2.3.1)\n",
      "Requirement already satisfied: matplotlib<3.9,>=1.5 in c:\\users\\adity\\appdata\\local\\programs\\python\\python311\\lib\\site-packages (from basemap) (3.8.2)\n",
      "Requirement already satisfied: pyproj<3.7.0,>=1.9.3 in c:\\users\\adity\\appdata\\local\\programs\\python\\python311\\lib\\site-packages (from basemap) (3.6.1)\n",
      "Requirement already satisfied: packaging<24.0,>=16.0 in c:\\users\\adity\\appdata\\roaming\\python\\python311\\site-packages (from basemap) (23.2)\n",
      "Requirement already satisfied: numpy<1.27,>=1.21 in c:\\users\\adity\\appdata\\local\\programs\\python\\python311\\lib\\site-packages (from basemap) (1.26.3)\n",
      "Requirement already satisfied: contourpy>=1.0.1 in c:\\users\\adity\\appdata\\local\\programs\\python\\python311\\lib\\site-packages (from matplotlib<3.9,>=1.5->basemap) (1.2.0)\n",
      "Requirement already satisfied: cycler>=0.10 in c:\\users\\adity\\appdata\\local\\programs\\python\\python311\\lib\\site-packages (from matplotlib<3.9,>=1.5->basemap) (0.12.1)\n",
      "Requirement already satisfied: fonttools>=4.22.0 in c:\\users\\adity\\appdata\\local\\programs\\python\\python311\\lib\\site-packages (from matplotlib<3.9,>=1.5->basemap) (4.47.2)\n",
      "Requirement already satisfied: kiwisolver>=1.3.1 in c:\\users\\adity\\appdata\\local\\programs\\python\\python311\\lib\\site-packages (from matplotlib<3.9,>=1.5->basemap) (1.4.5)\n",
      "Requirement already satisfied: pillow>=8 in c:\\users\\adity\\appdata\\local\\programs\\python\\python311\\lib\\site-packages (from matplotlib<3.9,>=1.5->basemap) (10.2.0)\n",
      "Requirement already satisfied: pyparsing>=2.3.1 in c:\\users\\adity\\appdata\\local\\programs\\python\\python311\\lib\\site-packages (from matplotlib<3.9,>=1.5->basemap) (3.1.1)\n",
      "Requirement already satisfied: python-dateutil>=2.7 in c:\\users\\adity\\appdata\\roaming\\python\\python311\\site-packages (from matplotlib<3.9,>=1.5->basemap) (2.8.2)\n",
      "Requirement already satisfied: certifi in c:\\users\\adity\\appdata\\local\\programs\\python\\python311\\lib\\site-packages (from pyproj<3.7.0,>=1.9.3->basemap) (2023.11.17)\n",
      "Requirement already satisfied: six>=1.5 in c:\\users\\adity\\appdata\\roaming\\python\\python311\\site-packages (from python-dateutil>=2.7->matplotlib<3.9,>=1.5->basemap) (1.16.0)\n"
     ]
    },
    {
     "name": "stderr",
     "output_type": "stream",
     "text": [
      "\n",
      "[notice] A new release of pip is available: 23.2.1 -> 23.3.2\n",
      "[notice] To update, run: python.exe -m pip install --upgrade pip\n"
     ]
    },
    {
     "name": "stdout",
     "output_type": "stream",
     "text": [
      "Note: you may need to restart the kernel to use updated packages.Requirement already satisfied: scikit-learn in c:\\users\\adity\\appdata\\local\\programs\\python\\python311\\lib\\site-packages (1.4.0)\n",
      "Requirement already satisfied: numpy<2.0,>=1.19.5 in c:\\users\\adity\\appdata\\local\\programs\\python\\python311\\lib\\site-packages (from scikit-learn) (1.26.3)\n",
      "Requirement already satisfied: scipy>=1.6.0 in c:\\users\\adity\\appdata\\local\\programs\\python\\python311\\lib\\site-packages (from scikit-learn) (1.12.0)\n",
      "Requirement already satisfied: joblib>=1.2.0 in c:\\users\\adity\\appdata\\local\\programs\\python\\python311\\lib\\site-packages (from scikit-learn) (1.3.2)\n",
      "Requirement already satisfied: threadpoolctl>=2.0.0 in c:\\users\\adity\\appdata\\local\\programs\\python\\python311\\lib\\site-packages (from scikit-learn) (3.2.0)\n",
      "\n"
     ]
    },
    {
     "name": "stderr",
     "output_type": "stream",
     "text": [
      "\n",
      "[notice] A new release of pip is available: 23.2.1 -> 23.3.2\n",
      "[notice] To update, run: python.exe -m pip install --upgrade pip\n"
     ]
    }
   ],
   "source": [
    "# install dependencies: numpy, matplotlib, pandas\n",
    "%pip install numpy\n",
    "%pip install matplotlib\n",
    "%pip install pandas\n",
    "%pip install basemap\n",
    "%pip install scikit-learn"
   ]
  },
  {
   "cell_type": "markdown",
   "id": "366a2f8c",
   "metadata": {},
   "source": []
  },
  {
   "cell_type": "code",
   "execution_count": 2,
   "id": "4ce6fa9a",
   "metadata": {},
   "outputs": [
    {
     "name": "stderr",
     "output_type": "stream",
     "text": [
      "C:\\Users\\adity\\AppData\\Local\\Temp\\ipykernel_18152\\4084351598.py:4: DeprecationWarning: \n",
      "Pyarrow will become a required dependency of pandas in the next major release of pandas (pandas 3.0),\n",
      "(to allow more performant data types, such as the Arrow string type, and better interoperability with other libraries)\n",
      "but was not found to be installed on your system.\n",
      "If this would cause problems for you,\n",
      "please provide us feedback at https://github.com/pandas-dev/pandas/issues/54466\n",
      "        \n",
      "  import pandas as pd\n"
     ]
    }
   ],
   "source": [
    "# import required dependancies\n",
    "#-----------------------------\n",
    "import numpy as np\n",
    "import pandas as pd\n",
    "import matplotlib.pyplot as plt"
   ]
  },
  {
   "cell_type": "code",
   "execution_count": 4,
   "id": "d2e4710a",
   "metadata": {},
   "outputs": [
    {
     "data": {
      "text/html": [
       "<div>\n",
       "<style scoped>\n",
       "    .dataframe tbody tr th:only-of-type {\n",
       "        vertical-align: middle;\n",
       "    }\n",
       "\n",
       "    .dataframe tbody tr th {\n",
       "        vertical-align: top;\n",
       "    }\n",
       "\n",
       "    .dataframe thead th {\n",
       "        text-align: right;\n",
       "    }\n",
       "</style>\n",
       "<table border=\"1\" class=\"dataframe\">\n",
       "  <thead>\n",
       "    <tr style=\"text-align: right;\">\n",
       "      <th></th>\n",
       "      <th>latitude</th>\n",
       "      <th>longitude</th>\n",
       "      <th>mag</th>\n",
       "      <th>depth</th>\n",
       "      <th>timestamp</th>\n",
       "    </tr>\n",
       "  </thead>\n",
       "  <tbody>\n",
       "    <tr>\n",
       "      <th>count</th>\n",
       "      <td>3.855719e+06</td>\n",
       "      <td>3.855719e+06</td>\n",
       "      <td>3.855719e+06</td>\n",
       "      <td>3.855719e+06</td>\n",
       "      <td>3.855719e+06</td>\n",
       "    </tr>\n",
       "    <tr>\n",
       "      <th>mean</th>\n",
       "      <td>3.619690e+01</td>\n",
       "      <td>-1.000200e+02</td>\n",
       "      <td>1.839301e+00</td>\n",
       "      <td>2.228747e+01</td>\n",
       "      <td>1.118936e+09</td>\n",
       "    </tr>\n",
       "    <tr>\n",
       "      <th>std</th>\n",
       "      <td>1.993314e+01</td>\n",
       "      <td>7.744373e+01</td>\n",
       "      <td>1.308862e+00</td>\n",
       "      <td>5.490393e+01</td>\n",
       "      <td>3.869948e+08</td>\n",
       "    </tr>\n",
       "    <tr>\n",
       "      <th>min</th>\n",
       "      <td>-8.442200e+01</td>\n",
       "      <td>-1.799990e+02</td>\n",
       "      <td>-9.990000e+00</td>\n",
       "      <td>0.000000e+00</td>\n",
       "      <td>9.471240e+07</td>\n",
       "    </tr>\n",
       "    <tr>\n",
       "      <th>25%</th>\n",
       "      <td>3.377566e+01</td>\n",
       "      <td>-1.410697e+02</td>\n",
       "      <td>9.600000e-01</td>\n",
       "      <td>3.317000e+00</td>\n",
       "      <td>8.341326e+08</td>\n",
       "    </tr>\n",
       "    <tr>\n",
       "      <th>50%</th>\n",
       "      <td>3.757433e+01</td>\n",
       "      <td>-1.189197e+02</td>\n",
       "      <td>1.500000e+00</td>\n",
       "      <td>7.500000e+00</td>\n",
       "      <td>1.190048e+09</td>\n",
       "    </tr>\n",
       "    <tr>\n",
       "      <th>75%</th>\n",
       "      <td>4.460733e+01</td>\n",
       "      <td>-1.159835e+02</td>\n",
       "      <td>2.380000e+00</td>\n",
       "      <td>1.520000e+01</td>\n",
       "      <td>1.454422e+09</td>\n",
       "    </tr>\n",
       "    <tr>\n",
       "      <th>max</th>\n",
       "      <td>8.738600e+01</td>\n",
       "      <td>1.800000e+02</td>\n",
       "      <td>9.100000e+00</td>\n",
       "      <td>7.358000e+02</td>\n",
       "      <td>1.641010e+09</td>\n",
       "    </tr>\n",
       "  </tbody>\n",
       "</table>\n",
       "</div>"
      ],
      "text/plain": [
       "           latitude     longitude           mag         depth     timestamp\n",
       "count  3.855719e+06  3.855719e+06  3.855719e+06  3.855719e+06  3.855719e+06\n",
       "mean   3.619690e+01 -1.000200e+02  1.839301e+00  2.228747e+01  1.118936e+09\n",
       "std    1.993314e+01  7.744373e+01  1.308862e+00  5.490393e+01  3.869948e+08\n",
       "min   -8.442200e+01 -1.799990e+02 -9.990000e+00  0.000000e+00  9.471240e+07\n",
       "25%    3.377566e+01 -1.410697e+02  9.600000e-01  3.317000e+00  8.341326e+08\n",
       "50%    3.757433e+01 -1.189197e+02  1.500000e+00  7.500000e+00  1.190048e+09\n",
       "75%    4.460733e+01 -1.159835e+02  2.380000e+00  1.520000e+01  1.454422e+09\n",
       "max    8.738600e+01  1.800000e+02  9.100000e+00  7.358000e+02  1.641010e+09"
      ]
     },
     "execution_count": 4,
     "metadata": {},
     "output_type": "execute_result"
    }
   ],
   "source": [
    "# get the data\n",
    "data = pd.read_csv(\"silver.csv\")\n",
    "data = data[['date', 'hour', 'latitude', 'longitude', 'mag', 'depth']]\n",
    "# convert date and hour to timestamp\n",
    "import datetime\n",
    "import time\n",
    "\n",
    "timestamp = []\n",
    "for d, t in zip(data['date'], data['hour']):\n",
    "    try:\n",
    "        ts = datetime.datetime.strptime(d+' '+str(t) + ':0:0', '%Y-%m-%d %H:%M:%S')\n",
    "        timestamp.append(time.mktime(ts.timetuple()))\n",
    "    except ValueError:\n",
    "        # print('ValueError')  \n",
    "        timestamp.append('ValueError')\n",
    "\n",
    "data['timestamp'] = pd.Series(timestamp).values\n",
    "data = data.drop(['date', 'hour'], axis=1)  \n",
    "data = data[data.timestamp != 'ValueError']  \n",
    "data.describe()"
   ]
  },
  {
   "cell_type": "code",
   "execution_count": 10,
   "id": "6bc442e6",
   "metadata": {},
   "outputs": [
    {
     "data": {
      "text/html": [
       "<div>\n",
       "<style scoped>\n",
       "    .dataframe tbody tr th:only-of-type {\n",
       "        vertical-align: middle;\n",
       "    }\n",
       "\n",
       "    .dataframe tbody tr th {\n",
       "        vertical-align: top;\n",
       "    }\n",
       "\n",
       "    .dataframe thead th {\n",
       "        text-align: right;\n",
       "    }\n",
       "</style>\n",
       "<table border=\"1\" class=\"dataframe\">\n",
       "  <thead>\n",
       "    <tr style=\"text-align: right;\">\n",
       "      <th></th>\n",
       "      <th>latitude</th>\n",
       "      <th>longitude</th>\n",
       "      <th>mag</th>\n",
       "      <th>depth</th>\n",
       "      <th>timestamp</th>\n",
       "    </tr>\n",
       "  </thead>\n",
       "  <tbody>\n",
       "    <tr>\n",
       "      <th>count</th>\n",
       "      <td>3.749279e+06</td>\n",
       "      <td>3.749279e+06</td>\n",
       "      <td>3.749279e+06</td>\n",
       "      <td>3.749279e+06</td>\n",
       "      <td>3.749279e+06</td>\n",
       "    </tr>\n",
       "    <tr>\n",
       "      <th>mean</th>\n",
       "      <td>3.610546e+01</td>\n",
       "      <td>-9.983861e+01</td>\n",
       "      <td>1.900921e+00</td>\n",
       "      <td>2.256044e+01</td>\n",
       "      <td>1.114155e+09</td>\n",
       "    </tr>\n",
       "    <tr>\n",
       "      <th>std</th>\n",
       "      <td>2.004812e+01</td>\n",
       "      <td>7.768673e+01</td>\n",
       "      <td>1.266708e+00</td>\n",
       "      <td>5.530050e+01</td>\n",
       "      <td>3.890529e+08</td>\n",
       "    </tr>\n",
       "    <tr>\n",
       "      <th>min</th>\n",
       "      <td>-8.442200e+01</td>\n",
       "      <td>-1.799990e+02</td>\n",
       "      <td>1.000000e-02</td>\n",
       "      <td>0.000000e+00</td>\n",
       "      <td>9.471240e+07</td>\n",
       "    </tr>\n",
       "    <tr>\n",
       "      <th>25%</th>\n",
       "      <td>3.368367e+01</td>\n",
       "      <td>-1.416976e+02</td>\n",
       "      <td>1.000000e+00</td>\n",
       "      <td>3.340000e+00</td>\n",
       "      <td>8.231220e+08</td>\n",
       "    </tr>\n",
       "    <tr>\n",
       "      <th>50%</th>\n",
       "      <td>3.756700e+01</td>\n",
       "      <td>-1.189253e+02</td>\n",
       "      <td>1.550000e+00</td>\n",
       "      <td>7.547000e+00</td>\n",
       "      <td>1.184695e+09</td>\n",
       "    </tr>\n",
       "    <tr>\n",
       "      <th>75%</th>\n",
       "      <td>4.451600e+01</td>\n",
       "      <td>-1.159252e+02</td>\n",
       "      <td>2.400000e+00</td>\n",
       "      <td>1.560000e+01</td>\n",
       "      <td>1.452330e+09</td>\n",
       "    </tr>\n",
       "    <tr>\n",
       "      <th>max</th>\n",
       "      <td>8.738600e+01</td>\n",
       "      <td>1.800000e+02</td>\n",
       "      <td>9.100000e+00</td>\n",
       "      <td>7.358000e+02</td>\n",
       "      <td>1.641010e+09</td>\n",
       "    </tr>\n",
       "  </tbody>\n",
       "</table>\n",
       "</div>"
      ],
      "text/plain": [
       "           latitude     longitude           mag         depth     timestamp\n",
       "count  3.749279e+06  3.749279e+06  3.749279e+06  3.749279e+06  3.749279e+06\n",
       "mean   3.610546e+01 -9.983861e+01  1.900921e+00  2.256044e+01  1.114155e+09\n",
       "std    2.004812e+01  7.768673e+01  1.266708e+00  5.530050e+01  3.890529e+08\n",
       "min   -8.442200e+01 -1.799990e+02  1.000000e-02  0.000000e+00  9.471240e+07\n",
       "25%    3.368367e+01 -1.416976e+02  1.000000e+00  3.340000e+00  8.231220e+08\n",
       "50%    3.756700e+01 -1.189253e+02  1.550000e+00  7.547000e+00  1.184695e+09\n",
       "75%    4.451600e+01 -1.159252e+02  2.400000e+00  1.560000e+01  1.452330e+09\n",
       "max    8.738600e+01  1.800000e+02  9.100000e+00  7.358000e+02  1.641010e+09"
      ]
     },
     "execution_count": 10,
     "metadata": {},
     "output_type": "execute_result"
    }
   ],
   "source": [
    "# trunticate the data and refactor to timestamp\n",
    "#-------------------------------------------------\n",
    "final_data = data[data['mag'] > 0]\n",
    "final_data.describe()"
   ]
  },
  {
   "cell_type": "code",
   "execution_count": null,
   "id": "90a145b5",
   "metadata": {},
   "outputs": [],
   "source": [
    "# plot the values for data visualization\n",
    "#----------------------------------------\n",
    "from mpl_toolkits.basemap import Basemap\n",
    "m = Basemap(projection='mill',llcrnrlat=-80,urcrnrlat=80, llcrnrlon=-180,urcrnrlon=180,lat_ts=20,resolution='c')\n",
    "\n",
    "longitudes = final_data[\"longitude\"].tolist()\n",
    "latitudes = final_data[\"latitude\"].tolist()\n",
    "#m = Basemap(width=12000000,height=9000000,projection='lcc', resolution=None,lat_1=80.,lat_2=55,lat_0=80,lon_0=-107.)\n",
    "x,y = m(longitudes,latitudes)\n",
    "fig = plt.figure(figsize=(12,10))\n",
    "plt.title(\"All affected areas\")\n",
    "m.plot(x, y, \"o\", markersize = 2, color = 'blue')\n",
    "m.drawcoastlines()\n",
    "m.fillcontinents(color='coral',lake_color='aqua')\n",
    "m.drawmapboundary()\n",
    "m.drawcountries()\n",
    "plt.show()"
   ]
  },
  {
   "cell_type": "code",
   "execution_count": 8,
   "id": "c355b78d",
   "metadata": {},
   "outputs": [],
   "source": [
    "final_data.to_csv(\"final_data.csv\", encoding='utf-8', index=False)"
   ]
  },
  {
   "cell_type": "code",
   "execution_count": null,
   "id": "b47b0c33",
   "metadata": {},
   "outputs": [],
   "source": [
    "#from sklearn.model_selection import GridSearchCV\n",
    "\n",
    "#parameters = {'n_estimators':[10, 20, 50, 100, 200, 500]}  \n",
    "  \n",
    "#grid_obj = GridSearchCV(randomforest_regressor, parameters)\n",
    "#grid_fit = grid_obj.fit(X_train, y_train)\n",
    "#best_fit = grid_fit.best_estimator_\n",
    "#best_fit.score(X_test, y_test)"
   ]
  }
 ],
 "metadata": {
  "kernelspec": {
   "display_name": "Python 3 (ipykernel)",
   "language": "python",
   "name": "python3"
  },
  "language_info": {
   "codemirror_mode": {
    "name": "ipython",
    "version": 3
   },
   "file_extension": ".py",
   "mimetype": "text/x-python",
   "name": "python",
   "nbconvert_exporter": "python",
   "pygments_lexer": "ipython3",
   "version": "3.11.5"
  }
 },
 "nbformat": 4,
 "nbformat_minor": 5
}
