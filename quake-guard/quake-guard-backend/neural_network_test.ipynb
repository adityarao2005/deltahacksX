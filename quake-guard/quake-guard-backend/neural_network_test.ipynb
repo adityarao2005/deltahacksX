{
 "cells": [
  {
   "cell_type": "code",
   "execution_count": 1,
   "metadata": {},
   "outputs": [
    {
     "name": "stdout",
     "output_type": "stream",
     "text": [
      "Requirement already satisfied: tensorflow in c:\\users\\adity\\appdata\\local\\programs\\python\\python311\\lib\\site-packages (2.15.0)Note: you may need to restart the kernel to use updated packages.\n",
      "\n",
      "Requirement already satisfied: tensorflow-intel==2.15.0 in c:\\users\\adity\\appdata\\local\\programs\\python\\python311\\lib\\site-packages (from tensorflow) (2.15.0)\n",
      "Requirement already satisfied: absl-py>=1.0.0 in c:\\users\\adity\\appdata\\local\\programs\\python\\python311\\lib\\site-packages (from tensorflow-intel==2.15.0->tensorflow) (2.1.0)\n",
      "Requirement already satisfied: astunparse>=1.6.0 in c:\\users\\adity\\appdata\\local\\programs\\python\\python311\\lib\\site-packages (from tensorflow-intel==2.15.0->tensorflow) (1.6.3)\n",
      "Requirement already satisfied: flatbuffers>=23.5.26 in c:\\users\\adity\\appdata\\local\\programs\\python\\python311\\lib\\site-packages (from tensorflow-intel==2.15.0->tensorflow) (23.5.26)\n",
      "Requirement already satisfied: gast!=0.5.0,!=0.5.1,!=0.5.2,>=0.2.1 in c:\\users\\adity\\appdata\\local\\programs\\python\\python311\\lib\\site-packages (from tensorflow-intel==2.15.0->tensorflow) (0.5.4)\n",
      "Requirement already satisfied: google-pasta>=0.1.1 in c:\\users\\adity\\appdata\\local\\programs\\python\\python311\\lib\\site-packages (from tensorflow-intel==2.15.0->tensorflow) (0.2.0)\n",
      "Requirement already satisfied: h5py>=2.9.0 in c:\\users\\adity\\appdata\\local\\programs\\python\\python311\\lib\\site-packages (from tensorflow-intel==2.15.0->tensorflow) (3.10.0)\n",
      "Requirement already satisfied: libclang>=13.0.0 in c:\\users\\adity\\appdata\\local\\programs\\python\\python311\\lib\\site-packages (from tensorflow-intel==2.15.0->tensorflow) (16.0.6)\n",
      "Requirement already satisfied: ml-dtypes~=0.2.0 in c:\\users\\adity\\appdata\\local\\programs\\python\\python311\\lib\\site-packages (from tensorflow-intel==2.15.0->tensorflow) (0.2.0)\n",
      "Requirement already satisfied: numpy<2.0.0,>=1.23.5 in c:\\users\\adity\\appdata\\local\\programs\\python\\python311\\lib\\site-packages (from tensorflow-intel==2.15.0->tensorflow) (1.26.3)\n",
      "Requirement already satisfied: opt-einsum>=2.3.2 in c:\\users\\adity\\appdata\\local\\programs\\python\\python311\\lib\\site-packages (from tensorflow-intel==2.15.0->tensorflow) (3.3.0)\n",
      "Requirement already satisfied: packaging in c:\\users\\adity\\appdata\\roaming\\python\\python311\\site-packages (from tensorflow-intel==2.15.0->tensorflow) (23.2)\n",
      "Requirement already satisfied: protobuf!=4.21.0,!=4.21.1,!=4.21.2,!=4.21.3,!=4.21.4,!=4.21.5,<5.0.0dev,>=3.20.3 in c:\\users\\adity\\appdata\\local\\programs\\python\\python311\\lib\\site-packages (from tensorflow-intel==2.15.0->tensorflow) (4.23.4)\n",
      "Requirement already satisfied: setuptools in c:\\users\\adity\\appdata\\local\\programs\\python\\python311\\lib\\site-packages (from tensorflow-intel==2.15.0->tensorflow) (65.5.0)\n",
      "Requirement already satisfied: six>=1.12.0 in c:\\users\\adity\\appdata\\roaming\\python\\python311\\site-packages (from tensorflow-intel==2.15.0->tensorflow) (1.16.0)\n",
      "Requirement already satisfied: termcolor>=1.1.0 in c:\\users\\adity\\appdata\\local\\programs\\python\\python311\\lib\\site-packages (from tensorflow-intel==2.15.0->tensorflow) (2.4.0)\n",
      "Requirement already satisfied: typing-extensions>=3.6.6 in c:\\users\\adity\\appdata\\local\\programs\\python\\python311\\lib\\site-packages (from tensorflow-intel==2.15.0->tensorflow) (4.9.0)\n",
      "Requirement already satisfied: wrapt<1.15,>=1.11.0 in c:\\users\\adity\\appdata\\local\\programs\\python\\python311\\lib\\site-packages (from tensorflow-intel==2.15.0->tensorflow) (1.14.1)\n",
      "Requirement already satisfied: tensorflow-io-gcs-filesystem>=0.23.1 in c:\\users\\adity\\appdata\\local\\programs\\python\\python311\\lib\\site-packages (from tensorflow-intel==2.15.0->tensorflow) (0.31.0)\n",
      "Requirement already satisfied: grpcio<2.0,>=1.24.3 in c:\\users\\adity\\appdata\\local\\programs\\python\\python311\\lib\\site-packages (from tensorflow-intel==2.15.0->tensorflow) (1.60.0)\n",
      "Requirement already satisfied: tensorboard<2.16,>=2.15 in c:\\users\\adity\\appdata\\local\\programs\\python\\python311\\lib\\site-packages (from tensorflow-intel==2.15.0->tensorflow) (2.15.1)\n",
      "Requirement already satisfied: tensorflow-estimator<2.16,>=2.15.0 in c:\\users\\adity\\appdata\\local\\programs\\python\\python311\\lib\\site-packages (from tensorflow-intel==2.15.0->tensorflow) (2.15.0)\n",
      "Requirement already satisfied: keras<2.16,>=2.15.0 in c:\\users\\adity\\appdata\\local\\programs\\python\\python311\\lib\\site-packages (from tensorflow-intel==2.15.0->tensorflow) (2.15.0)\n",
      "Requirement already satisfied: wheel<1.0,>=0.23.0 in c:\\users\\adity\\appdata\\local\\programs\\python\\python311\\lib\\site-packages (from astunparse>=1.6.0->tensorflow-intel==2.15.0->tensorflow) (0.42.0)\n",
      "Requirement already satisfied: google-auth<3,>=1.6.3 in c:\\users\\adity\\appdata\\local\\programs\\python\\python311\\lib\\site-packages (from tensorboard<2.16,>=2.15->tensorflow-intel==2.15.0->tensorflow) (2.27.0)\n",
      "Requirement already satisfied: google-auth-oauthlib<2,>=0.5 in c:\\users\\adity\\appdata\\local\\programs\\python\\python311\\lib\\site-packages (from tensorboard<2.16,>=2.15->tensorflow-intel==2.15.0->tensorflow) (1.2.0)\n",
      "Requirement already satisfied: markdown>=2.6.8 in c:\\users\\adity\\appdata\\local\\programs\\python\\python311\\lib\\site-packages (from tensorboard<2.16,>=2.15->tensorflow-intel==2.15.0->tensorflow) (3.5.2)\n",
      "Requirement already satisfied: requests<3,>=2.21.0 in c:\\users\\adity\\appdata\\local\\programs\\python\\python311\\lib\\site-packages (from tensorboard<2.16,>=2.15->tensorflow-intel==2.15.0->tensorflow) (2.31.0)\n",
      "Requirement already satisfied: tensorboard-data-server<0.8.0,>=0.7.0 in c:\\users\\adity\\appdata\\local\\programs\\python\\python311\\lib\\site-packages (from tensorboard<2.16,>=2.15->tensorflow-intel==2.15.0->tensorflow) (0.7.2)\n",
      "Requirement already satisfied: werkzeug>=1.0.1 in c:\\users\\adity\\appdata\\local\\programs\\python\\python311\\lib\\site-packages (from tensorboard<2.16,>=2.15->tensorflow-intel==2.15.0->tensorflow) (3.0.1)\n",
      "Requirement already satisfied: cachetools<6.0,>=2.0.0 in c:\\users\\adity\\appdata\\local\\programs\\python\\python311\\lib\\site-packages (from google-auth<3,>=1.6.3->tensorboard<2.16,>=2.15->tensorflow-intel==2.15.0->tensorflow) (5.3.2)\n",
      "Requirement already satisfied: pyasn1-modules>=0.2.1 in c:\\users\\adity\\appdata\\local\\programs\\python\\python311\\lib\\site-packages (from google-auth<3,>=1.6.3->tensorboard<2.16,>=2.15->tensorflow-intel==2.15.0->tensorflow) (0.3.0)\n",
      "Requirement already satisfied: rsa<5,>=3.1.4 in c:\\users\\adity\\appdata\\local\\programs\\python\\python311\\lib\\site-packages (from google-auth<3,>=1.6.3->tensorboard<2.16,>=2.15->tensorflow-intel==2.15.0->tensorflow) (4.9)\n",
      "Requirement already satisfied: requests-oauthlib>=0.7.0 in c:\\users\\adity\\appdata\\local\\programs\\python\\python311\\lib\\site-packages (from google-auth-oauthlib<2,>=0.5->tensorboard<2.16,>=2.15->tensorflow-intel==2.15.0->tensorflow) (1.3.1)\n",
      "Requirement already satisfied: charset-normalizer<4,>=2 in c:\\users\\adity\\appdata\\local\\programs\\python\\python311\\lib\\site-packages (from requests<3,>=2.21.0->tensorboard<2.16,>=2.15->tensorflow-intel==2.15.0->tensorflow) (3.3.2)\n",
      "Requirement already satisfied: idna<4,>=2.5 in c:\\users\\adity\\appdata\\local\\programs\\python\\python311\\lib\\site-packages (from requests<3,>=2.21.0->tensorboard<2.16,>=2.15->tensorflow-intel==2.15.0->tensorflow) (3.6)\n",
      "Requirement already satisfied: urllib3<3,>=1.21.1 in c:\\users\\adity\\appdata\\local\\programs\\python\\python311\\lib\\site-packages (from requests<3,>=2.21.0->tensorboard<2.16,>=2.15->tensorflow-intel==2.15.0->tensorflow) (2.1.0)\n",
      "Requirement already satisfied: certifi>=2017.4.17 in c:\\users\\adity\\appdata\\local\\programs\\python\\python311\\lib\\site-packages (from requests<3,>=2.21.0->tensorboard<2.16,>=2.15->tensorflow-intel==2.15.0->tensorflow) (2023.11.17)\n",
      "Requirement already satisfied: MarkupSafe>=2.1.1 in c:\\users\\adity\\appdata\\local\\programs\\python\\python311\\lib\\site-packages (from werkzeug>=1.0.1->tensorboard<2.16,>=2.15->tensorflow-intel==2.15.0->tensorflow) (2.1.4)\n",
      "Requirement already satisfied: pyasn1<0.6.0,>=0.4.6 in c:\\users\\adity\\appdata\\local\\programs\\python\\python311\\lib\\site-packages (from pyasn1-modules>=0.2.1->google-auth<3,>=1.6.3->tensorboard<2.16,>=2.15->tensorflow-intel==2.15.0->tensorflow) (0.5.1)\n",
      "Requirement already satisfied: oauthlib>=3.0.0 in c:\\users\\adity\\appdata\\local\\programs\\python\\python311\\lib\\site-packages (from requests-oauthlib>=0.7.0->google-auth-oauthlib<2,>=0.5->tensorboard<2.16,>=2.15->tensorflow-intel==2.15.0->tensorflow) (3.2.2)\n"
     ]
    }
   ],
   "source": [
    "%pip install tensorflow"
   ]
  },
  {
   "cell_type": "code",
   "execution_count": 72,
   "metadata": {},
   "outputs": [],
   "source": [
    "import tensorflow as tf\n",
    "import numpy as np\n",
    "import pandas as pd\n",
    "import matplotlib.pyplot as plt"
   ]
  },
  {
   "cell_type": "code",
   "execution_count": 73,
   "metadata": {},
   "outputs": [],
   "source": [
    "# read the data\n",
    "#-------------------\n",
    "data = pd.read_csv(\"final_data.csv\")\n",
    "data.describe()\n",
    "data = data[data[\"mag\"] >= 3]"
   ]
  },
  {
   "cell_type": "code",
   "execution_count": 74,
   "metadata": {},
   "outputs": [
    {
     "data": {
      "text/html": [
       "<div>\n",
       "<style scoped>\n",
       "    .dataframe tbody tr th:only-of-type {\n",
       "        vertical-align: middle;\n",
       "    }\n",
       "\n",
       "    .dataframe tbody tr th {\n",
       "        vertical-align: top;\n",
       "    }\n",
       "\n",
       "    .dataframe thead th {\n",
       "        text-align: right;\n",
       "    }\n",
       "</style>\n",
       "<table border=\"1\" class=\"dataframe\">\n",
       "  <thead>\n",
       "    <tr style=\"text-align: right;\">\n",
       "      <th></th>\n",
       "      <th>latitude</th>\n",
       "      <th>longitude</th>\n",
       "      <th>mag</th>\n",
       "      <th>depth</th>\n",
       "      <th>timestamp</th>\n",
       "    </tr>\n",
       "  </thead>\n",
       "  <tbody>\n",
       "    <tr>\n",
       "      <th>count</th>\n",
       "      <td>664875.000000</td>\n",
       "      <td>664875.000000</td>\n",
       "      <td>664875.000000</td>\n",
       "      <td>664875.000000</td>\n",
       "      <td>6.648750e+05</td>\n",
       "    </tr>\n",
       "    <tr>\n",
       "      <th>mean</th>\n",
       "      <td>13.403848</td>\n",
       "      <td>9.950133</td>\n",
       "      <td>4.214894</td>\n",
       "      <td>66.061349</td>\n",
       "      <td>1.050162e+09</td>\n",
       "    </tr>\n",
       "    <tr>\n",
       "      <th>std</th>\n",
       "      <td>30.206160</td>\n",
       "      <td>120.224505</td>\n",
       "      <td>0.694671</td>\n",
       "      <td>111.978909</td>\n",
       "      <td>3.944005e+08</td>\n",
       "    </tr>\n",
       "    <tr>\n",
       "      <th>min</th>\n",
       "      <td>-84.422000</td>\n",
       "      <td>-179.999000</td>\n",
       "      <td>3.000000</td>\n",
       "      <td>0.000000</td>\n",
       "      <td>9.472320e+07</td>\n",
       "    </tr>\n",
       "    <tr>\n",
       "      <th>25%</th>\n",
       "      <td>-9.260000</td>\n",
       "      <td>-97.258000</td>\n",
       "      <td>3.700000</td>\n",
       "      <td>10.000000</td>\n",
       "      <td>7.903134e+08</td>\n",
       "    </tr>\n",
       "    <tr>\n",
       "      <th>50%</th>\n",
       "      <td>17.368000</td>\n",
       "      <td>21.795000</td>\n",
       "      <td>4.300000</td>\n",
       "      <td>33.000000</td>\n",
       "      <td>1.113404e+09</td>\n",
       "    </tr>\n",
       "    <tr>\n",
       "      <th>75%</th>\n",
       "      <td>38.000000</td>\n",
       "      <td>128.434000</td>\n",
       "      <td>4.700000</td>\n",
       "      <td>60.300000</td>\n",
       "      <td>1.377632e+09</td>\n",
       "    </tr>\n",
       "    <tr>\n",
       "      <th>max</th>\n",
       "      <td>87.386000</td>\n",
       "      <td>180.000000</td>\n",
       "      <td>9.100000</td>\n",
       "      <td>735.800000</td>\n",
       "      <td>1.641010e+09</td>\n",
       "    </tr>\n",
       "  </tbody>\n",
       "</table>\n",
       "</div>"
      ],
      "text/plain": [
       "            latitude      longitude            mag          depth  \\\n",
       "count  664875.000000  664875.000000  664875.000000  664875.000000   \n",
       "mean       13.403848       9.950133       4.214894      66.061349   \n",
       "std        30.206160     120.224505       0.694671     111.978909   \n",
       "min       -84.422000    -179.999000       3.000000       0.000000   \n",
       "25%        -9.260000     -97.258000       3.700000      10.000000   \n",
       "50%        17.368000      21.795000       4.300000      33.000000   \n",
       "75%        38.000000     128.434000       4.700000      60.300000   \n",
       "max        87.386000     180.000000       9.100000     735.800000   \n",
       "\n",
       "          timestamp  \n",
       "count  6.648750e+05  \n",
       "mean   1.050162e+09  \n",
       "std    3.944005e+08  \n",
       "min    9.472320e+07  \n",
       "25%    7.903134e+08  \n",
       "50%    1.113404e+09  \n",
       "75%    1.377632e+09  \n",
       "max    1.641010e+09  "
      ]
     },
     "execution_count": 74,
     "metadata": {},
     "output_type": "execute_result"
    }
   ],
   "source": [
    "data.describe()"
   ]
  },
  {
   "cell_type": "markdown",
   "metadata": {},
   "source": [
    "Training Data"
   ]
  },
  {
   "cell_type": "code",
   "execution_count": 75,
   "metadata": {},
   "outputs": [
    {
     "name": "stdout",
     "output_type": "stream",
     "text": [
      "(664875, 3) (664875, 2)\n",
      "(531900, 3) (531900, 2) (132975, 3) (132975, 2)\n"
     ]
    }
   ],
   "source": [
    "from sklearn.model_selection import train_test_split\n",
    "\n",
    "X = data[[\"latitude\", \"longitude\", \"timestamp\"]]\n",
    "y = data[[\"mag\", \"depth\"]]\n",
    "print(X.shape, y.shape)\n",
    "X_train, X_test, y_train, y_test = train_test_split(X, y, test_size=0.2, random_state=42)\n",
    "print(X_train.shape, y_train.shape, X_test.shape, y_test.shape)"
   ]
  },
  {
   "cell_type": "code",
   "execution_count": 76,
   "metadata": {},
   "outputs": [],
   "source": [
    "normalizer = tf.keras.layers.Normalization(axis=-1)\n",
    "normalizer.adapt(X_train)"
   ]
  },
  {
   "cell_type": "code",
   "execution_count": 77,
   "metadata": {},
   "outputs": [],
   "source": [
    "def get_basic_model():\n",
    "\tmodel = tf.keras.Sequential([\n",
    "\t\tnormalizer,\n",
    "\t\ttf.keras.layers.Dense(16, activation='relu', input_shape=(3,)),\n",
    "\t\ttf.keras.layers.Dense(16, activation='relu'),\n",
    "\t\ttf.keras.layers.Dense(2, activation='softmax')\n",
    "\t])\n",
    "\tmodel.compile(optimizer='adam',\n",
    "\t\t\tloss=tf.keras.losses.SquaredHinge(),\n",
    "\t\t\tmetrics=['accuracy'])\n",
    "\treturn model"
   ]
  },
  {
   "cell_type": "code",
   "execution_count": 78,
   "metadata": {},
   "outputs": [
    {
     "name": "stdout",
     "output_type": "stream",
     "text": [
      "Epoch 1/15\n",
      "16622/16622 [==============================] - 60s 4ms/step - loss: 0.0061 - accuracy: 0.9547 - val_loss: 0.0062 - val_accuracy: 0.9667\n",
      "Epoch 2/15\n",
      "16622/16622 [==============================] - 46s 3ms/step - loss: 0.0061 - accuracy: 0.9667 - val_loss: 0.0062 - val_accuracy: 0.9667\n",
      "Epoch 3/15\n",
      "16622/16622 [==============================] - 66s 4ms/step - loss: 0.0061 - accuracy: 0.9667 - val_loss: 0.0062 - val_accuracy: 0.9667\n",
      "Epoch 4/15\n",
      "16622/16622 [==============================] - 98s 6ms/step - loss: 0.0061 - accuracy: 0.9667 - val_loss: 0.0062 - val_accuracy: 0.9667\n",
      "Epoch 5/15\n",
      "16621/16622 [============================>.] - ETA: 0s - loss: 0.0061 - accuracy: 0.9667"
     ]
    }
   ],
   "source": [
    "model = get_basic_model()\n",
    "history = model.fit(X_train, y_train, epochs=15, validation_data=(X_test, y_test))"
   ]
  },
  {
   "cell_type": "code",
   "execution_count": 66,
   "metadata": {},
   "outputs": [
    {
     "data": {
      "text/plain": [
       "{'loss': [0.01245432160794735,\n",
       "  0.004546043928712606,\n",
       "  0.004537333268672228,\n",
       "  0.004535944666713476,\n",
       "  0.004535396117717028,\n",
       "  0.004535133484750986,\n",
       "  0.004535007290542126,\n",
       "  0.004534891806542873,\n",
       "  0.004534792620688677,\n",
       "  0.004534732084721327,\n",
       "  0.004534699022769928,\n",
       "  0.004534689709544182,\n",
       "  0.004534686915576458,\n",
       "  0.004534686915576458,\n",
       "  0.004534686915576458],\n",
       " 'accuracy': [0.8218199014663696,\n",
       "  0.9666779637336731,\n",
       "  0.9666779637336731,\n",
       "  0.9666779637336731,\n",
       "  0.9666779637336731,\n",
       "  0.9666779637336731,\n",
       "  0.9666779637336731,\n",
       "  0.9666779637336731,\n",
       "  0.9666779637336731,\n",
       "  0.9666779637336731,\n",
       "  0.9666779637336731,\n",
       "  0.9666779637336731,\n",
       "  0.9666779637336731,\n",
       "  0.9666779637336731,\n",
       "  0.9666779637336731],\n",
       " 'val_loss': [0.00481219869107008,\n",
       "  0.004764414392411709,\n",
       "  0.004762360360473394,\n",
       "  0.004761787131428719,\n",
       "  0.0047612497583031654,\n",
       "  0.0047609843313694,\n",
       "  0.004760760813951492,\n",
       "  0.004760551266372204,\n",
       "  0.004760398529469967,\n",
       "  0.004760309122502804,\n",
       "  0.00476029422134161,\n",
       "  0.004760293290019035,\n",
       "  0.004760293290019035,\n",
       "  0.004760293290019035,\n",
       "  0.004760293290019035],\n",
       " 'val_accuracy': [0.9667080044746399,\n",
       "  0.9667080044746399,\n",
       "  0.9667080044746399,\n",
       "  0.9667080044746399,\n",
       "  0.9667080044746399,\n",
       "  0.9667080044746399,\n",
       "  0.9667080044746399,\n",
       "  0.9667080044746399,\n",
       "  0.9667080044746399,\n",
       "  0.9667080044746399,\n",
       "  0.9667080044746399,\n",
       "  0.9667080044746399,\n",
       "  0.9667080044746399,\n",
       "  0.9667080044746399,\n",
       "  0.9667080044746399]}"
      ]
     },
     "execution_count": 66,
     "metadata": {},
     "output_type": "execute_result"
    }
   ],
   "source": [
    "history.history"
   ]
  },
  {
   "cell_type": "code",
   "execution_count": 92,
   "metadata": {},
   "outputs": [
    {
     "name": "stdout",
     "output_type": "stream",
     "text": [
      "Collecting pyyamlNote: you may need to restart the kernel to use updated packages.\n",
      "\n",
      "  Downloading PyYAML-6.0.1-cp311-cp311-win_amd64.whl.metadata (2.1 kB)\n",
      "Requirement already satisfied: h5py in c:\\users\\adity\\appdata\\local\\programs\\python\\python311\\lib\\site-packages (3.10.0)\n",
      "Requirement already satisfied: numpy>=1.17.3 in c:\\users\\adity\\appdata\\local\\programs\\python\\python311\\lib\\site-packages (from h5py) (1.26.3)\n",
      "Downloading PyYAML-6.0.1-cp311-cp311-win_amd64.whl (144 kB)\n",
      "   ---------------------------------------- 0.0/144.7 kB ? eta -:--:--\n",
      "   -- ------------------------------------- 10.2/144.7 kB ? eta -:--:--\n",
      "   ---------------------------------------  143.4/144.7 kB 1.7 MB/s eta 0:00:01\n",
      "   ---------------------------------------- 144.7/144.7 kB 1.4 MB/s eta 0:00:00\n",
      "Installing collected packages: pyyaml\n",
      "Successfully installed pyyaml-6.0.1\n"
     ]
    }
   ],
   "source": [
    "%pip install pyyaml h5py"
   ]
  },
  {
   "cell_type": "code",
   "execution_count": null,
   "metadata": {},
   "outputs": [
    {
     "name": "stdout",
     "output_type": "stream",
     "text": [
      "INFO:tensorflow:Assets written to: neural_network.tf\\assets\n"
     ]
    },
    {
     "name": "stderr",
     "output_type": "stream",
     "text": [
      "INFO:tensorflow:Assets written to: neural_network.tf\\assets\n"
     ]
    }
   ],
   "source": [
    "\n",
    "# Save the entire model as a `.keras` zip archive.\n",
    "model.save('neural_network.tf')"
   ]
  },
  {
   "cell_type": "code",
   "execution_count": null,
   "metadata": {},
   "outputs": [],
   "source": [
    "new_model = tf.keras.models.load_model('neural_network.tf')"
   ]
  },
  {
   "cell_type": "code",
   "execution_count": null,
   "metadata": {},
   "outputs": [
    {
     "name": "stdout",
     "output_type": "stream",
     "text": [
      "4/4 - 0s - loss: 0.0000e+00 - accuracy: 0.9500 - 143ms/epoch - 36ms/step\n"
     ]
    },
    {
     "data": {
      "text/plain": [
       "[0.0, 0.949999988079071]"
      ]
     },
     "execution_count": 69,
     "metadata": {},
     "output_type": "execute_result"
    }
   ],
   "source": [
    "new_model.evaluate(X_test[0:100], y_test[0:100], verbose=2)"
   ]
  },
  {
   "cell_type": "code",
   "execution_count": null,
   "metadata": {},
   "outputs": [
    {
     "name": "stdout",
     "output_type": "stream",
     "text": [
      "4/4 [==============================] - 0s 3ms/step\n"
     ]
    },
    {
     "data": {
      "text/plain": [
       "array([[6.16071663e+01, 1.41192749e+03],\n",
       "       [2.70113583e+01, 6.10643982e+02],\n",
       "       [7.61571550e+00, 1.66689301e+02],\n",
       "       [1.27842629e+00, 2.19345036e+01],\n",
       "       [1.70928879e+01, 3.94190094e+02],\n",
       "       [1.98770964e+00, 3.34694595e+01],\n",
       "       [1.80576122e+00, 3.35611839e+01],\n",
       "       [6.05160332e+01, 1.39831042e+03],\n",
       "       [2.71776104e+01, 6.18879395e+02],\n",
       "       [6.67874298e+01, 1.54932446e+03],\n",
       "       [2.69461250e+01, 6.16596436e+02],\n",
       "       [1.59364395e+01, 3.66597565e+02],\n",
       "       [2.90984383e+01, 6.72051025e+02],\n",
       "       [4.59023476e+00, 9.50783081e+01],\n",
       "       [2.79741516e+01, 6.49483643e+02],\n",
       "       [2.84800072e+01, 6.56190430e+02],\n",
       "       [2.37396088e+01, 5.42027222e+02],\n",
       "       [1.43008304e+00, 2.42540588e+01],\n",
       "       [7.25019789e+00, 1.53721619e+02],\n",
       "       [1.57571840e+01, 3.62236786e+02],\n",
       "       [1.57199776e+00, 2.58358288e+01],\n",
       "       [6.17936668e+01, 1.43044397e+03],\n",
       "       [1.44031894e+00, 2.34010258e+01],\n",
       "       [3.76631546e+01, 8.67556213e+02],\n",
       "       [3.78234792e+00, 7.71071930e+01],\n",
       "       [9.23485947e+00, 2.06430679e+02],\n",
       "       [2.18625336e+01, 5.04537384e+02],\n",
       "       [1.29909182e+01, 2.97167725e+02],\n",
       "       [9.94823837e+00, 2.20713440e+02],\n",
       "       [1.04253798e+01, 2.29856140e+02],\n",
       "       [1.74060154e+00, 3.20089684e+01],\n",
       "       [1.62162471e+00, 2.92531776e+01],\n",
       "       [1.59679794e+00, 2.67052975e+01],\n",
       "       [6.31139679e+01, 1.45552026e+03],\n",
       "       [1.32443142e+01, 3.03665314e+02],\n",
       "       [6.13912849e+01, 1.41985144e+03],\n",
       "       [1.67105925e+00, 2.93249950e+01],\n",
       "       [2.40788627e+00, 4.71530533e+01],\n",
       "       [1.27217054e+01, 2.90461761e+02],\n",
       "       [8.84645367e+00, 1.96264038e+02],\n",
       "       [2.55329533e+01, 5.70258301e+02],\n",
       "       [9.49069786e+00, 2.08523682e+02],\n",
       "       [3.49633980e+01, 8.04142944e+02],\n",
       "       [2.47331791e+01, 5.56712402e+02],\n",
       "       [6.04624214e+01, 1.40162317e+03],\n",
       "       [3.41377678e+01, 7.78685425e+02],\n",
       "       [1.66508698e+00, 3.11847591e+01],\n",
       "       [2.72655544e+01, 6.31541199e+02],\n",
       "       [3.60455346e+00, 7.61787720e+01],\n",
       "       [4.71456604e+01, 1.08403308e+03],\n",
       "       [3.06781979e+01, 7.04866272e+02],\n",
       "       [4.28577957e+01, 9.87977905e+02],\n",
       "       [4.40405045e+01, 1.01838416e+03],\n",
       "       [5.20864058e+00, 1.10665421e+02],\n",
       "       [7.47999763e+00, 1.61819061e+02],\n",
       "       [1.89099331e+01, 4.33665497e+02],\n",
       "       [2.55235696e+00, 5.02028580e+01],\n",
       "       [4.83570023e+01, 1.10720056e+03],\n",
       "       [1.67614479e+01, 3.71387207e+02],\n",
       "       [1.85802441e+01, 4.29313934e+02],\n",
       "       [2.09992390e+01, 4.71496002e+02],\n",
       "       [2.55033264e+01, 5.78668274e+02],\n",
       "       [8.88500214e+00, 2.00401581e+02],\n",
       "       [4.82819939e+01, 1.10417834e+03],\n",
       "       [1.45196187e+00, 2.34323044e+01],\n",
       "       [1.29339962e+01, 2.95463013e+02],\n",
       "       [2.47887058e+01, 5.55277100e+02],\n",
       "       [3.19870510e+01, 7.38000549e+02],\n",
       "       [2.81985188e+00, 5.51597061e+01],\n",
       "       [4.83634567e+01, 1.10215674e+03],\n",
       "       [3.42194443e+01, 7.83305054e+02],\n",
       "       [4.31161594e+00, 9.21715088e+01],\n",
       "       [6.65602112e+01, 1.54480676e+03],\n",
       "       [1.73137302e+01, 3.98631378e+02],\n",
       "       [1.96855202e+01, 4.48708527e+02],\n",
       "       [3.46023827e+01, 7.96522339e+02],\n",
       "       [2.72475224e+01, 6.22580383e+02],\n",
       "       [1.41956997e+00, 2.32550163e+01],\n",
       "       [4.82518425e+01, 1.11333582e+03],\n",
       "       [9.42862511e+00, 2.12077789e+02],\n",
       "       [2.94156418e+01, 6.83660095e+02],\n",
       "       [1.71476402e+01, 3.95305359e+02],\n",
       "       [4.11535225e+01, 9.43707397e+02],\n",
       "       [1.31601739e+00, 2.25712109e+01],\n",
       "       [2.53283920e+01, 5.74260437e+02],\n",
       "       [1.37932277e+00, 2.31922169e+01],\n",
       "       [1.50230622e+00, 2.43229885e+01],\n",
       "       [7.81035995e+00, 1.69677155e+02],\n",
       "       [1.58394499e+01, 3.59324463e+02],\n",
       "       [1.31949198e+00, 2.22267704e+01],\n",
       "       [1.68929875e+00, 2.79500198e+01],\n",
       "       [2.65012722e+01, 6.07068054e+02],\n",
       "       [4.25482216e+01, 9.82196167e+02],\n",
       "       [7.95791912e+00, 1.73152527e+02],\n",
       "       [1.22996235e+01, 2.76987579e+02],\n",
       "       [6.25138550e+01, 1.44000500e+03],\n",
       "       [1.89008751e+01, 4.36743591e+02],\n",
       "       [2.81020699e+01, 6.37697083e+02],\n",
       "       [2.66161137e+01, 6.12861633e+02],\n",
       "       [3.17171211e+01, 7.16380188e+02]], dtype=float32)"
      ]
     },
     "execution_count": 70,
     "metadata": {},
     "output_type": "execute_result"
    }
   ],
   "source": [
    "new_model.predict(X_test[0:100])"
   ]
  },
  {
   "cell_type": "code",
   "execution_count": null,
   "metadata": {},
   "outputs": [
    {
     "data": {
      "text/html": [
       "<div>\n",
       "<style scoped>\n",
       "    .dataframe tbody tr th:only-of-type {\n",
       "        vertical-align: middle;\n",
       "    }\n",
       "\n",
       "    .dataframe tbody tr th {\n",
       "        vertical-align: top;\n",
       "    }\n",
       "\n",
       "    .dataframe thead th {\n",
       "        text-align: right;\n",
       "    }\n",
       "</style>\n",
       "<table border=\"1\" class=\"dataframe\">\n",
       "  <thead>\n",
       "    <tr style=\"text-align: right;\">\n",
       "      <th></th>\n",
       "      <th>mag</th>\n",
       "      <th>depth</th>\n",
       "    </tr>\n",
       "  </thead>\n",
       "  <tbody>\n",
       "    <tr>\n",
       "      <th>171832</th>\n",
       "      <td>4.7</td>\n",
       "      <td>33.0</td>\n",
       "    </tr>\n",
       "    <tr>\n",
       "      <th>77284</th>\n",
       "      <td>3.8</td>\n",
       "      <td>120.0</td>\n",
       "    </tr>\n",
       "    <tr>\n",
       "      <th>693662</th>\n",
       "      <td>5.2</td>\n",
       "      <td>33.0</td>\n",
       "    </tr>\n",
       "    <tr>\n",
       "      <th>1611710</th>\n",
       "      <td>4.4</td>\n",
       "      <td>10.0</td>\n",
       "    </tr>\n",
       "    <tr>\n",
       "      <th>3068472</th>\n",
       "      <td>4.3</td>\n",
       "      <td>185.9</td>\n",
       "    </tr>\n",
       "    <tr>\n",
       "      <th>...</th>\n",
       "      <td>...</td>\n",
       "      <td>...</td>\n",
       "    </tr>\n",
       "    <tr>\n",
       "      <th>917786</th>\n",
       "      <td>3.3</td>\n",
       "      <td>124.8</td>\n",
       "    </tr>\n",
       "    <tr>\n",
       "      <th>2997505</th>\n",
       "      <td>5.2</td>\n",
       "      <td>10.0</td>\n",
       "    </tr>\n",
       "    <tr>\n",
       "      <th>650055</th>\n",
       "      <td>3.6</td>\n",
       "      <td>10.0</td>\n",
       "    </tr>\n",
       "    <tr>\n",
       "      <th>1571005</th>\n",
       "      <td>3.2</td>\n",
       "      <td>2.0</td>\n",
       "    </tr>\n",
       "    <tr>\n",
       "      <th>178663</th>\n",
       "      <td>4.9</td>\n",
       "      <td>44.0</td>\n",
       "    </tr>\n",
       "  </tbody>\n",
       "</table>\n",
       "<p>100 rows × 2 columns</p>\n",
       "</div>"
      ],
      "text/plain": [
       "         mag  depth\n",
       "171832   4.7   33.0\n",
       "77284    3.8  120.0\n",
       "693662   5.2   33.0\n",
       "1611710  4.4   10.0\n",
       "3068472  4.3  185.9\n",
       "...      ...    ...\n",
       "917786   3.3  124.8\n",
       "2997505  5.2   10.0\n",
       "650055   3.6   10.0\n",
       "1571005  3.2    2.0\n",
       "178663   4.9   44.0\n",
       "\n",
       "[100 rows x 2 columns]"
      ]
     },
     "execution_count": 71,
     "metadata": {},
     "output_type": "execute_result"
    }
   ],
   "source": [
    "y_test[0:100]"
   ]
  },
  {
   "cell_type": "code",
   "execution_count": null,
   "metadata": {},
   "outputs": [
    {
     "name": "stdout",
     "output_type": "stream",
     "text": [
      "WARNING:tensorflow:From c:\\Users\\adity\\AppData\\Local\\Programs\\Python\\Python311\\Lib\\site-packages\\keras\\src\\utils\\tf_utils.py:492: The name tf.ragged.RaggedTensorValue is deprecated. Please use tf.compat.v1.ragged.RaggedTensorValue instead.\n",
      "\n",
      "4/4 - 1s - loss: 1.0745e-04 - accuracy: 0.9500 - 661ms/epoch - 165ms/step\n"
     ]
    },
    {
     "data": {
      "text/plain": [
       "[0.00010745367762865499, 0.949999988079071]"
      ]
     },
     "execution_count": 21,
     "metadata": {},
     "output_type": "execute_result"
    }
   ],
   "source": [
    "new_model.evaluate(X_test[0:100], y_test[0:100], verbose=2)"
   ]
  }
 ],
 "metadata": {
  "kernelspec": {
   "display_name": "Python 3",
   "language": "python",
   "name": "python3"
  },
  "language_info": {
   "codemirror_mode": {
    "name": "ipython",
    "version": 3
   },
   "file_extension": ".py",
   "mimetype": "text/x-python",
   "name": "python",
   "nbconvert_exporter": "python",
   "pygments_lexer": "ipython3",
   "version": "3.11.5"
  }
 },
 "nbformat": 4,
 "nbformat_minor": 2
}
