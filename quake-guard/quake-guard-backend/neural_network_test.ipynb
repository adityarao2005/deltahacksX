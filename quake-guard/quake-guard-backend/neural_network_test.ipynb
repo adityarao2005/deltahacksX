{
 "cells": [
  {
   "cell_type": "code",
   "execution_count": 1,
   "metadata": {},
   "outputs": [
    {
     "name": "stdout",
     "output_type": "stream",
     "text": [
      "Requirement already satisfied: tensorflow in c:\\users\\adity\\appdata\\local\\programs\\python\\python311\\lib\\site-packages (2.15.0)Note: you may need to restart the kernel to use updated packages.\n",
      "\n",
      "Requirement already satisfied: tensorflow-intel==2.15.0 in c:\\users\\adity\\appdata\\local\\programs\\python\\python311\\lib\\site-packages (from tensorflow) (2.15.0)\n",
      "Requirement already satisfied: absl-py>=1.0.0 in c:\\users\\adity\\appdata\\local\\programs\\python\\python311\\lib\\site-packages (from tensorflow-intel==2.15.0->tensorflow) (2.1.0)\n",
      "Requirement already satisfied: astunparse>=1.6.0 in c:\\users\\adity\\appdata\\local\\programs\\python\\python311\\lib\\site-packages (from tensorflow-intel==2.15.0->tensorflow) (1.6.3)\n",
      "Requirement already satisfied: flatbuffers>=23.5.26 in c:\\users\\adity\\appdata\\local\\programs\\python\\python311\\lib\\site-packages (from tensorflow-intel==2.15.0->tensorflow) (23.5.26)\n",
      "Requirement already satisfied: gast!=0.5.0,!=0.5.1,!=0.5.2,>=0.2.1 in c:\\users\\adity\\appdata\\local\\programs\\python\\python311\\lib\\site-packages (from tensorflow-intel==2.15.0->tensorflow) (0.5.4)\n",
      "Requirement already satisfied: google-pasta>=0.1.1 in c:\\users\\adity\\appdata\\local\\programs\\python\\python311\\lib\\site-packages (from tensorflow-intel==2.15.0->tensorflow) (0.2.0)\n",
      "Requirement already satisfied: h5py>=2.9.0 in c:\\users\\adity\\appdata\\local\\programs\\python\\python311\\lib\\site-packages (from tensorflow-intel==2.15.0->tensorflow) (3.10.0)\n",
      "Requirement already satisfied: libclang>=13.0.0 in c:\\users\\adity\\appdata\\local\\programs\\python\\python311\\lib\\site-packages (from tensorflow-intel==2.15.0->tensorflow) (16.0.6)\n",
      "Requirement already satisfied: ml-dtypes~=0.2.0 in c:\\users\\adity\\appdata\\local\\programs\\python\\python311\\lib\\site-packages (from tensorflow-intel==2.15.0->tensorflow) (0.2.0)\n",
      "Requirement already satisfied: numpy<2.0.0,>=1.23.5 in c:\\users\\adity\\appdata\\local\\programs\\python\\python311\\lib\\site-packages (from tensorflow-intel==2.15.0->tensorflow) (1.26.3)\n",
      "Requirement already satisfied: opt-einsum>=2.3.2 in c:\\users\\adity\\appdata\\local\\programs\\python\\python311\\lib\\site-packages (from tensorflow-intel==2.15.0->tensorflow) (3.3.0)\n",
      "Requirement already satisfied: packaging in c:\\users\\adity\\appdata\\roaming\\python\\python311\\site-packages (from tensorflow-intel==2.15.0->tensorflow) (23.2)\n",
      "Requirement already satisfied: protobuf!=4.21.0,!=4.21.1,!=4.21.2,!=4.21.3,!=4.21.4,!=4.21.5,<5.0.0dev,>=3.20.3 in c:\\users\\adity\\appdata\\local\\programs\\python\\python311\\lib\\site-packages (from tensorflow-intel==2.15.0->tensorflow) (4.23.4)\n",
      "Requirement already satisfied: setuptools in c:\\users\\adity\\appdata\\local\\programs\\python\\python311\\lib\\site-packages (from tensorflow-intel==2.15.0->tensorflow) (65.5.0)\n",
      "Requirement already satisfied: six>=1.12.0 in c:\\users\\adity\\appdata\\roaming\\python\\python311\\site-packages (from tensorflow-intel==2.15.0->tensorflow) (1.16.0)\n",
      "Requirement already satisfied: termcolor>=1.1.0 in c:\\users\\adity\\appdata\\local\\programs\\python\\python311\\lib\\site-packages (from tensorflow-intel==2.15.0->tensorflow) (2.4.0)\n",
      "Requirement already satisfied: typing-extensions>=3.6.6 in c:\\users\\adity\\appdata\\local\\programs\\python\\python311\\lib\\site-packages (from tensorflow-intel==2.15.0->tensorflow) (4.9.0)\n",
      "Requirement already satisfied: wrapt<1.15,>=1.11.0 in c:\\users\\adity\\appdata\\local\\programs\\python\\python311\\lib\\site-packages (from tensorflow-intel==2.15.0->tensorflow) (1.14.1)\n",
      "Requirement already satisfied: tensorflow-io-gcs-filesystem>=0.23.1 in c:\\users\\adity\\appdata\\local\\programs\\python\\python311\\lib\\site-packages (from tensorflow-intel==2.15.0->tensorflow) (0.31.0)\n",
      "Requirement already satisfied: grpcio<2.0,>=1.24.3 in c:\\users\\adity\\appdata\\local\\programs\\python\\python311\\lib\\site-packages (from tensorflow-intel==2.15.0->tensorflow) (1.60.0)\n",
      "Requirement already satisfied: tensorboard<2.16,>=2.15 in c:\\users\\adity\\appdata\\local\\programs\\python\\python311\\lib\\site-packages (from tensorflow-intel==2.15.0->tensorflow) (2.15.1)\n",
      "Requirement already satisfied: tensorflow-estimator<2.16,>=2.15.0 in c:\\users\\adity\\appdata\\local\\programs\\python\\python311\\lib\\site-packages (from tensorflow-intel==2.15.0->tensorflow) (2.15.0)\n",
      "Requirement already satisfied: keras<2.16,>=2.15.0 in c:\\users\\adity\\appdata\\local\\programs\\python\\python311\\lib\\site-packages (from tensorflow-intel==2.15.0->tensorflow) (2.15.0)\n",
      "Requirement already satisfied: wheel<1.0,>=0.23.0 in c:\\users\\adity\\appdata\\local\\programs\\python\\python311\\lib\\site-packages (from astunparse>=1.6.0->tensorflow-intel==2.15.0->tensorflow) (0.42.0)\n",
      "Requirement already satisfied: google-auth<3,>=1.6.3 in c:\\users\\adity\\appdata\\local\\programs\\python\\python311\\lib\\site-packages (from tensorboard<2.16,>=2.15->tensorflow-intel==2.15.0->tensorflow) (2.27.0)\n",
      "Requirement already satisfied: google-auth-oauthlib<2,>=0.5 in c:\\users\\adity\\appdata\\local\\programs\\python\\python311\\lib\\site-packages (from tensorboard<2.16,>=2.15->tensorflow-intel==2.15.0->tensorflow) (1.2.0)\n",
      "Requirement already satisfied: markdown>=2.6.8 in c:\\users\\adity\\appdata\\local\\programs\\python\\python311\\lib\\site-packages (from tensorboard<2.16,>=2.15->tensorflow-intel==2.15.0->tensorflow) (3.5.2)\n",
      "Requirement already satisfied: requests<3,>=2.21.0 in c:\\users\\adity\\appdata\\local\\programs\\python\\python311\\lib\\site-packages (from tensorboard<2.16,>=2.15->tensorflow-intel==2.15.0->tensorflow) (2.31.0)\n",
      "Requirement already satisfied: tensorboard-data-server<0.8.0,>=0.7.0 in c:\\users\\adity\\appdata\\local\\programs\\python\\python311\\lib\\site-packages (from tensorboard<2.16,>=2.15->tensorflow-intel==2.15.0->tensorflow) (0.7.2)\n",
      "Requirement already satisfied: werkzeug>=1.0.1 in c:\\users\\adity\\appdata\\local\\programs\\python\\python311\\lib\\site-packages (from tensorboard<2.16,>=2.15->tensorflow-intel==2.15.0->tensorflow) (3.0.1)\n",
      "Requirement already satisfied: cachetools<6.0,>=2.0.0 in c:\\users\\adity\\appdata\\local\\programs\\python\\python311\\lib\\site-packages (from google-auth<3,>=1.6.3->tensorboard<2.16,>=2.15->tensorflow-intel==2.15.0->tensorflow) (5.3.2)\n",
      "Requirement already satisfied: pyasn1-modules>=0.2.1 in c:\\users\\adity\\appdata\\local\\programs\\python\\python311\\lib\\site-packages (from google-auth<3,>=1.6.3->tensorboard<2.16,>=2.15->tensorflow-intel==2.15.0->tensorflow) (0.3.0)\n",
      "Requirement already satisfied: rsa<5,>=3.1.4 in c:\\users\\adity\\appdata\\local\\programs\\python\\python311\\lib\\site-packages (from google-auth<3,>=1.6.3->tensorboard<2.16,>=2.15->tensorflow-intel==2.15.0->tensorflow) (4.9)\n",
      "Requirement already satisfied: requests-oauthlib>=0.7.0 in c:\\users\\adity\\appdata\\local\\programs\\python\\python311\\lib\\site-packages (from google-auth-oauthlib<2,>=0.5->tensorboard<2.16,>=2.15->tensorflow-intel==2.15.0->tensorflow) (1.3.1)\n",
      "Requirement already satisfied: charset-normalizer<4,>=2 in c:\\users\\adity\\appdata\\local\\programs\\python\\python311\\lib\\site-packages (from requests<3,>=2.21.0->tensorboard<2.16,>=2.15->tensorflow-intel==2.15.0->tensorflow) (3.3.2)\n",
      "Requirement already satisfied: idna<4,>=2.5 in c:\\users\\adity\\appdata\\local\\programs\\python\\python311\\lib\\site-packages (from requests<3,>=2.21.0->tensorboard<2.16,>=2.15->tensorflow-intel==2.15.0->tensorflow) (3.6)\n",
      "Requirement already satisfied: urllib3<3,>=1.21.1 in c:\\users\\adity\\appdata\\local\\programs\\python\\python311\\lib\\site-packages (from requests<3,>=2.21.0->tensorboard<2.16,>=2.15->tensorflow-intel==2.15.0->tensorflow) (2.1.0)\n",
      "Requirement already satisfied: certifi>=2017.4.17 in c:\\users\\adity\\appdata\\local\\programs\\python\\python311\\lib\\site-packages (from requests<3,>=2.21.0->tensorboard<2.16,>=2.15->tensorflow-intel==2.15.0->tensorflow) (2023.11.17)\n",
      "Requirement already satisfied: MarkupSafe>=2.1.1 in c:\\users\\adity\\appdata\\local\\programs\\python\\python311\\lib\\site-packages (from werkzeug>=1.0.1->tensorboard<2.16,>=2.15->tensorflow-intel==2.15.0->tensorflow) (2.1.4)\n",
      "Requirement already satisfied: pyasn1<0.6.0,>=0.4.6 in c:\\users\\adity\\appdata\\local\\programs\\python\\python311\\lib\\site-packages (from pyasn1-modules>=0.2.1->google-auth<3,>=1.6.3->tensorboard<2.16,>=2.15->tensorflow-intel==2.15.0->tensorflow) (0.5.1)\n",
      "Requirement already satisfied: oauthlib>=3.0.0 in c:\\users\\adity\\appdata\\local\\programs\\python\\python311\\lib\\site-packages (from requests-oauthlib>=0.7.0->google-auth-oauthlib<2,>=0.5->tensorboard<2.16,>=2.15->tensorflow-intel==2.15.0->tensorflow) (3.2.2)\n"
     ]
    }
   ],
   "source": [
    "%pip install tensorflow"
   ]
  },
  {
   "cell_type": "code",
   "execution_count": 1,
   "metadata": {},
   "outputs": [
    {
     "name": "stdout",
     "output_type": "stream",
     "text": [
      "WARNING:tensorflow:From c:\\Users\\adity\\AppData\\Local\\Programs\\Python\\Python311\\Lib\\site-packages\\keras\\src\\losses.py:2976: The name tf.losses.sparse_softmax_cross_entropy is deprecated. Please use tf.compat.v1.losses.sparse_softmax_cross_entropy instead.\n",
      "\n"
     ]
    }
   ],
   "source": [
    "import tensorflow as tf\n",
    "import numpy as np\n",
    "import pandas as pd\n",
    "import matplotlib.pyplot as plt"
   ]
  },
  {
   "cell_type": "code",
   "execution_count": 85,
   "metadata": {},
   "outputs": [],
   "source": [
    "# read the data\n",
    "#-------------------\n",
    "data = pd.read_csv(\"final_data.csv\")\n",
    "data.describe()\n",
    "data = data[data[\"mag\"] >= 3]"
   ]
  },
  {
   "cell_type": "markdown",
   "metadata": {},
   "source": [
    "Training Data"
   ]
  },
  {
   "cell_type": "code",
   "execution_count": 86,
   "metadata": {},
   "outputs": [
    {
     "name": "stdout",
     "output_type": "stream",
     "text": [
      "(664875, 3) (664875, 2)\n",
      "(531900, 3) (531900, 2) (132975, 3) (132975, 2)\n"
     ]
    }
   ],
   "source": [
    "from sklearn.model_selection import train_test_split\n",
    "\n",
    "X = data[[\"latitude\", \"longitude\", \"timestamp\"]]\n",
    "y = data[[\"mag\", \"depth\"]]\n",
    "print(X.shape, y.shape)\n",
    "X_train, X_test, y_train, y_test = train_test_split(X, y, test_size=0.2, random_state=42)\n",
    "print(X_train.shape, y_train.shape, X_test.shape, y_test.shape)"
   ]
  },
  {
   "cell_type": "code",
   "execution_count": 87,
   "metadata": {},
   "outputs": [],
   "source": [
    "normalizer = tf.keras.layers.Normalization(axis=-1)\n",
    "normalizer.adapt(X_train)"
   ]
  },
  {
   "cell_type": "code",
   "execution_count": 88,
   "metadata": {},
   "outputs": [],
   "source": [
    "def get_basic_model():\n",
    "\tmodel = tf.keras.Sequential([\n",
    "\t\tnormalizer,\n",
    "\t\ttf.keras.layers.Dense(16, activation='relu', input_shape=(3,)),\n",
    "\t\ttf.keras.layers.Dense(16, activation='relu'),\n",
    "\t\ttf.keras.layers.Dense(2, activation='softmax')\n",
    "\t])\n",
    "\tmodel.compile(optimizer='adam',\n",
    "\t\t\tloss=tf.keras.losses.SquaredHinge(),\n",
    "\t\t\tmetrics=['accuracy'])\n",
    "\treturn model"
   ]
  },
  {
   "cell_type": "code",
   "execution_count": 89,
   "metadata": {},
   "outputs": [
    {
     "name": "stdout",
     "output_type": "stream",
     "text": [
      "Epoch 1/15\n",
      "16622/16622 [==============================] - 42s 2ms/step - loss: 0.0061 - accuracy: 0.9648 - val_loss: 0.0062 - val_accuracy: 0.9667\n",
      "Epoch 2/15\n",
      "16622/16622 [==============================] - 104s 6ms/step - loss: 0.0061 - accuracy: 0.9667 - val_loss: 0.0062 - val_accuracy: 0.9667\n",
      "Epoch 3/15\n",
      "16622/16622 [==============================] - 171s 10ms/step - loss: 0.0061 - accuracy: 0.9667 - val_loss: 0.0062 - val_accuracy: 0.9667\n",
      "Epoch 4/15\n",
      "16622/16622 [==============================] - 187s 11ms/step - loss: 0.0061 - accuracy: 0.9667 - val_loss: 0.0062 - val_accuracy: 0.9667\n",
      "Epoch 5/15\n",
      "16622/16622 [==============================] - 138s 8ms/step - loss: 0.0061 - accuracy: 0.9667 - val_loss: 0.0062 - val_accuracy: 0.9667\n",
      "Epoch 6/15\n",
      "16622/16622 [==============================] - 157s 9ms/step - loss: 0.0061 - accuracy: 0.9667 - val_loss: 0.0062 - val_accuracy: 0.9667\n",
      "Epoch 7/15\n",
      "16622/16622 [==============================] - 136s 8ms/step - loss: 0.0061 - accuracy: 0.9667 - val_loss: 0.0062 - val_accuracy: 0.9667\n",
      "Epoch 8/15\n",
      "16622/16622 [==============================] - 104s 6ms/step - loss: 0.0061 - accuracy: 0.9667 - val_loss: 0.0062 - val_accuracy: 0.9667\n",
      "Epoch 9/15\n",
      "16622/16622 [==============================] - 48s 3ms/step - loss: 0.0061 - accuracy: 0.9667 - val_loss: 0.0062 - val_accuracy: 0.9667\n",
      "Epoch 10/15\n",
      "16622/16622 [==============================] - 42s 3ms/step - loss: 0.0061 - accuracy: 0.9667 - val_loss: 0.0062 - val_accuracy: 0.9667\n",
      "Epoch 11/15\n",
      "16622/16622 [==============================] - 97s 6ms/step - loss: 0.0061 - accuracy: 0.9667 - val_loss: 0.0062 - val_accuracy: 0.9667\n",
      "Epoch 12/15\n",
      "16622/16622 [==============================] - 101s 6ms/step - loss: 0.0061 - accuracy: 0.9667 - val_loss: 0.0062 - val_accuracy: 0.9666\n",
      "Epoch 13/15\n",
      "16622/16622 [==============================] - 106s 6ms/step - loss: 0.0061 - accuracy: 0.9667 - val_loss: 0.0062 - val_accuracy: 0.9667\n",
      "Epoch 14/15\n",
      "16622/16622 [==============================] - 105s 6ms/step - loss: 0.0061 - accuracy: 0.9667 - val_loss: 0.0062 - val_accuracy: 0.9667\n",
      "Epoch 15/15\n",
      "16622/16622 [==============================] - 113s 7ms/step - loss: 0.0061 - accuracy: 0.9667 - val_loss: 0.0062 - val_accuracy: 0.9667\n"
     ]
    }
   ],
   "source": [
    "model = get_basic_model()\n",
    "history = model.fit(X_train, y_train, epochs=15, validation_data=(X_test, y_test))"
   ]
  },
  {
   "cell_type": "code",
   "execution_count": 90,
   "metadata": {},
   "outputs": [
    {
     "data": {
      "text/plain": [
       "{'loss': [0.0060842460952699184,\n",
       "  0.0060734618455171585,\n",
       "  0.006072208285331726,\n",
       "  0.006071118637919426,\n",
       "  0.006070575676858425,\n",
       "  0.00607006810605526,\n",
       "  0.006069852504879236,\n",
       "  0.0060693444684147835,\n",
       "  0.006069249007850885,\n",
       "  0.006069120019674301,\n",
       "  0.006069410592317581,\n",
       "  0.006068889517337084,\n",
       "  0.006068604066967964,\n",
       "  0.00606864457949996,\n",
       "  0.00606816029176116],\n",
       " 'accuracy': [0.9647809863090515,\n",
       "  0.9666779637336731,\n",
       "  0.9666779637336731,\n",
       "  0.9666779637336731,\n",
       "  0.9666779637336731,\n",
       "  0.9666779637336731,\n",
       "  0.9666779637336731,\n",
       "  0.9666779637336731,\n",
       "  0.9666685461997986,\n",
       "  0.9666516184806824,\n",
       "  0.9666760563850403,\n",
       "  0.9666760563850403,\n",
       "  0.9666779637336731,\n",
       "  0.9666704535484314,\n",
       "  0.9666779637336731],\n",
       " 'val_loss': [0.0062282090075314045,\n",
       "  0.006224975921213627,\n",
       "  0.006227517034858465,\n",
       "  0.0062241763807833195,\n",
       "  0.006224492564797401,\n",
       "  0.006224878132343292,\n",
       "  0.00622567068785429,\n",
       "  0.006224952172487974,\n",
       "  0.0062220292165875435,\n",
       "  0.006222139578312635,\n",
       "  0.006222588010132313,\n",
       "  0.006226520985364914,\n",
       "  0.00622207298874855,\n",
       "  0.006220460869371891,\n",
       "  0.006223131436854601],\n",
       " 'val_accuracy': [0.9667080044746399,\n",
       "  0.9667080044746399,\n",
       "  0.9667080044746399,\n",
       "  0.9667080044746399,\n",
       "  0.9667080044746399,\n",
       "  0.9667080044746399,\n",
       "  0.9667080044746399,\n",
       "  0.9666854739189148,\n",
       "  0.9667080044746399,\n",
       "  0.9667080044746399,\n",
       "  0.9667080044746399,\n",
       "  0.9666328430175781,\n",
       "  0.9667080044746399,\n",
       "  0.9667080044746399,\n",
       "  0.9667080044746399]}"
      ]
     },
     "execution_count": 90,
     "metadata": {},
     "output_type": "execute_result"
    }
   ],
   "source": [
    "history.history"
   ]
  },
  {
   "cell_type": "code",
   "execution_count": 92,
   "metadata": {},
   "outputs": [
    {
     "name": "stdout",
     "output_type": "stream",
     "text": [
      "Collecting pyyamlNote: you may need to restart the kernel to use updated packages.\n",
      "\n",
      "  Downloading PyYAML-6.0.1-cp311-cp311-win_amd64.whl.metadata (2.1 kB)\n",
      "Requirement already satisfied: h5py in c:\\users\\adity\\appdata\\local\\programs\\python\\python311\\lib\\site-packages (3.10.0)\n",
      "Requirement already satisfied: numpy>=1.17.3 in c:\\users\\adity\\appdata\\local\\programs\\python\\python311\\lib\\site-packages (from h5py) (1.26.3)\n",
      "Downloading PyYAML-6.0.1-cp311-cp311-win_amd64.whl (144 kB)\n",
      "   ---------------------------------------- 0.0/144.7 kB ? eta -:--:--\n",
      "   -- ------------------------------------- 10.2/144.7 kB ? eta -:--:--\n",
      "   ---------------------------------------  143.4/144.7 kB 1.7 MB/s eta 0:00:01\n",
      "   ---------------------------------------- 144.7/144.7 kB 1.4 MB/s eta 0:00:00\n",
      "Installing collected packages: pyyaml\n",
      "Successfully installed pyyaml-6.0.1\n"
     ]
    }
   ],
   "source": [
    "%pip install pyyaml h5py"
   ]
  },
  {
   "cell_type": "code",
   "execution_count": 96,
   "metadata": {},
   "outputs": [
    {
     "name": "stdout",
     "output_type": "stream",
     "text": [
      "INFO:tensorflow:Assets written to: neural_network.tf\\assets\n"
     ]
    },
    {
     "name": "stderr",
     "output_type": "stream",
     "text": [
      "INFO:tensorflow:Assets written to: neural_network.tf\\assets\n"
     ]
    }
   ],
   "source": [
    "\n",
    "# Save the entire model as a `.keras` zip archive.\n",
    "model.save('neural_network.tf')"
   ]
  },
  {
   "cell_type": "code",
   "execution_count": 97,
   "metadata": {},
   "outputs": [
    {
     "name": "stdout",
     "output_type": "stream",
     "text": [
      "WARNING:tensorflow:From c:\\Users\\adity\\AppData\\Local\\Programs\\Python\\Python311\\Lib\\site-packages\\keras\\src\\saving\\legacy\\saved_model\\load.py:107: The name tf.gfile.Exists is deprecated. Please use tf.io.gfile.exists instead.\n",
      "\n"
     ]
    },
    {
     "name": "stderr",
     "output_type": "stream",
     "text": [
      "WARNING:tensorflow:From c:\\Users\\adity\\AppData\\Local\\Programs\\Python\\Python311\\Lib\\site-packages\\keras\\src\\saving\\legacy\\saved_model\\load.py:107: The name tf.gfile.Exists is deprecated. Please use tf.io.gfile.exists instead.\n",
      "\n"
     ]
    }
   ],
   "source": [
    "new_model = tf.keras.models.load_model('neural_network.tf')"
   ]
  },
  {
   "cell_type": "code",
   "execution_count": 98,
   "metadata": {},
   "outputs": [
    {
     "name": "stdout",
     "output_type": "stream",
     "text": [
      "32/32 - 0s - loss: 0.0044 - accuracy: 0.9680 - 276ms/epoch - 9ms/step\n"
     ]
    },
    {
     "data": {
      "text/plain": [
       "[0.004406984895467758, 0.9679999947547913]"
      ]
     },
     "execution_count": 98,
     "metadata": {},
     "output_type": "execute_result"
    }
   ],
   "source": [
    "new_model.evaluate(X_test[0:1000], y_test[0:1000], verbose=2)"
   ]
  }
 ],
 "metadata": {
  "kernelspec": {
   "display_name": "Python 3",
   "language": "python",
   "name": "python3"
  },
  "language_info": {
   "codemirror_mode": {
    "name": "ipython",
    "version": 3
   },
   "file_extension": ".py",
   "mimetype": "text/x-python",
   "name": "python",
   "nbconvert_exporter": "python",
   "pygments_lexer": "ipython3",
   "version": "3.11.5"
  }
 },
 "nbformat": 4,
 "nbformat_minor": 2
}
