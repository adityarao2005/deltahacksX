{
 "cells": [
  {
   "cell_type": "code",
   "execution_count": 1,
   "metadata": {},
   "outputs": [
    {
     "name": "stdout",
     "output_type": "stream",
     "text": [
      "Requirement already satisfied: tensorflow in c:\\users\\adity\\appdata\\local\\programs\\python\\python311\\lib\\site-packages (2.15.0)Note: you may need to restart the kernel to use updated packages.\n",
      "\n",
      "Requirement already satisfied: tensorflow-intel==2.15.0 in c:\\users\\adity\\appdata\\local\\programs\\python\\python311\\lib\\site-packages (from tensorflow) (2.15.0)\n",
      "Requirement already satisfied: absl-py>=1.0.0 in c:\\users\\adity\\appdata\\local\\programs\\python\\python311\\lib\\site-packages (from tensorflow-intel==2.15.0->tensorflow) (2.1.0)\n",
      "Requirement already satisfied: astunparse>=1.6.0 in c:\\users\\adity\\appdata\\local\\programs\\python\\python311\\lib\\site-packages (from tensorflow-intel==2.15.0->tensorflow) (1.6.3)\n",
      "Requirement already satisfied: flatbuffers>=23.5.26 in c:\\users\\adity\\appdata\\local\\programs\\python\\python311\\lib\\site-packages (from tensorflow-intel==2.15.0->tensorflow) (23.5.26)\n",
      "Requirement already satisfied: gast!=0.5.0,!=0.5.1,!=0.5.2,>=0.2.1 in c:\\users\\adity\\appdata\\local\\programs\\python\\python311\\lib\\site-packages (from tensorflow-intel==2.15.0->tensorflow) (0.5.4)\n",
      "Requirement already satisfied: google-pasta>=0.1.1 in c:\\users\\adity\\appdata\\local\\programs\\python\\python311\\lib\\site-packages (from tensorflow-intel==2.15.0->tensorflow) (0.2.0)\n",
      "Requirement already satisfied: h5py>=2.9.0 in c:\\users\\adity\\appdata\\local\\programs\\python\\python311\\lib\\site-packages (from tensorflow-intel==2.15.0->tensorflow) (3.10.0)\n",
      "Requirement already satisfied: libclang>=13.0.0 in c:\\users\\adity\\appdata\\local\\programs\\python\\python311\\lib\\site-packages (from tensorflow-intel==2.15.0->tensorflow) (16.0.6)\n",
      "Requirement already satisfied: ml-dtypes~=0.2.0 in c:\\users\\adity\\appdata\\local\\programs\\python\\python311\\lib\\site-packages (from tensorflow-intel==2.15.0->tensorflow) (0.2.0)\n",
      "Requirement already satisfied: numpy<2.0.0,>=1.23.5 in c:\\users\\adity\\appdata\\local\\programs\\python\\python311\\lib\\site-packages (from tensorflow-intel==2.15.0->tensorflow) (1.26.3)\n",
      "Requirement already satisfied: opt-einsum>=2.3.2 in c:\\users\\adity\\appdata\\local\\programs\\python\\python311\\lib\\site-packages (from tensorflow-intel==2.15.0->tensorflow) (3.3.0)\n",
      "Requirement already satisfied: packaging in c:\\users\\adity\\appdata\\roaming\\python\\python311\\site-packages (from tensorflow-intel==2.15.0->tensorflow) (23.2)\n",
      "Requirement already satisfied: protobuf!=4.21.0,!=4.21.1,!=4.21.2,!=4.21.3,!=4.21.4,!=4.21.5,<5.0.0dev,>=3.20.3 in c:\\users\\adity\\appdata\\local\\programs\\python\\python311\\lib\\site-packages (from tensorflow-intel==2.15.0->tensorflow) (4.23.4)\n",
      "Requirement already satisfied: setuptools in c:\\users\\adity\\appdata\\local\\programs\\python\\python311\\lib\\site-packages (from tensorflow-intel==2.15.0->tensorflow) (65.5.0)\n",
      "Requirement already satisfied: six>=1.12.0 in c:\\users\\adity\\appdata\\roaming\\python\\python311\\site-packages (from tensorflow-intel==2.15.0->tensorflow) (1.16.0)\n",
      "Requirement already satisfied: termcolor>=1.1.0 in c:\\users\\adity\\appdata\\local\\programs\\python\\python311\\lib\\site-packages (from tensorflow-intel==2.15.0->tensorflow) (2.4.0)\n",
      "Requirement already satisfied: typing-extensions>=3.6.6 in c:\\users\\adity\\appdata\\local\\programs\\python\\python311\\lib\\site-packages (from tensorflow-intel==2.15.0->tensorflow) (4.9.0)\n",
      "Requirement already satisfied: wrapt<1.15,>=1.11.0 in c:\\users\\adity\\appdata\\local\\programs\\python\\python311\\lib\\site-packages (from tensorflow-intel==2.15.0->tensorflow) (1.14.1)\n",
      "Requirement already satisfied: tensorflow-io-gcs-filesystem>=0.23.1 in c:\\users\\adity\\appdata\\local\\programs\\python\\python311\\lib\\site-packages (from tensorflow-intel==2.15.0->tensorflow) (0.31.0)\n",
      "Requirement already satisfied: grpcio<2.0,>=1.24.3 in c:\\users\\adity\\appdata\\local\\programs\\python\\python311\\lib\\site-packages (from tensorflow-intel==2.15.0->tensorflow) (1.60.0)\n",
      "Requirement already satisfied: tensorboard<2.16,>=2.15 in c:\\users\\adity\\appdata\\local\\programs\\python\\python311\\lib\\site-packages (from tensorflow-intel==2.15.0->tensorflow) (2.15.1)\n",
      "Requirement already satisfied: tensorflow-estimator<2.16,>=2.15.0 in c:\\users\\adity\\appdata\\local\\programs\\python\\python311\\lib\\site-packages (from tensorflow-intel==2.15.0->tensorflow) (2.15.0)\n",
      "Requirement already satisfied: keras<2.16,>=2.15.0 in c:\\users\\adity\\appdata\\local\\programs\\python\\python311\\lib\\site-packages (from tensorflow-intel==2.15.0->tensorflow) (2.15.0)\n",
      "Requirement already satisfied: wheel<1.0,>=0.23.0 in c:\\users\\adity\\appdata\\local\\programs\\python\\python311\\lib\\site-packages (from astunparse>=1.6.0->tensorflow-intel==2.15.0->tensorflow) (0.42.0)\n",
      "Requirement already satisfied: google-auth<3,>=1.6.3 in c:\\users\\adity\\appdata\\local\\programs\\python\\python311\\lib\\site-packages (from tensorboard<2.16,>=2.15->tensorflow-intel==2.15.0->tensorflow) (2.27.0)\n",
      "Requirement already satisfied: google-auth-oauthlib<2,>=0.5 in c:\\users\\adity\\appdata\\local\\programs\\python\\python311\\lib\\site-packages (from tensorboard<2.16,>=2.15->tensorflow-intel==2.15.0->tensorflow) (1.2.0)\n",
      "Requirement already satisfied: markdown>=2.6.8 in c:\\users\\adity\\appdata\\local\\programs\\python\\python311\\lib\\site-packages (from tensorboard<2.16,>=2.15->tensorflow-intel==2.15.0->tensorflow) (3.5.2)\n",
      "Requirement already satisfied: requests<3,>=2.21.0 in c:\\users\\adity\\appdata\\local\\programs\\python\\python311\\lib\\site-packages (from tensorboard<2.16,>=2.15->tensorflow-intel==2.15.0->tensorflow) (2.31.0)\n",
      "Requirement already satisfied: tensorboard-data-server<0.8.0,>=0.7.0 in c:\\users\\adity\\appdata\\local\\programs\\python\\python311\\lib\\site-packages (from tensorboard<2.16,>=2.15->tensorflow-intel==2.15.0->tensorflow) (0.7.2)\n",
      "Requirement already satisfied: werkzeug>=1.0.1 in c:\\users\\adity\\appdata\\local\\programs\\python\\python311\\lib\\site-packages (from tensorboard<2.16,>=2.15->tensorflow-intel==2.15.0->tensorflow) (3.0.1)\n",
      "Requirement already satisfied: cachetools<6.0,>=2.0.0 in c:\\users\\adity\\appdata\\local\\programs\\python\\python311\\lib\\site-packages (from google-auth<3,>=1.6.3->tensorboard<2.16,>=2.15->tensorflow-intel==2.15.0->tensorflow) (5.3.2)\n",
      "Requirement already satisfied: pyasn1-modules>=0.2.1 in c:\\users\\adity\\appdata\\local\\programs\\python\\python311\\lib\\site-packages (from google-auth<3,>=1.6.3->tensorboard<2.16,>=2.15->tensorflow-intel==2.15.0->tensorflow) (0.3.0)\n",
      "Requirement already satisfied: rsa<5,>=3.1.4 in c:\\users\\adity\\appdata\\local\\programs\\python\\python311\\lib\\site-packages (from google-auth<3,>=1.6.3->tensorboard<2.16,>=2.15->tensorflow-intel==2.15.0->tensorflow) (4.9)\n",
      "Requirement already satisfied: requests-oauthlib>=0.7.0 in c:\\users\\adity\\appdata\\local\\programs\\python\\python311\\lib\\site-packages (from google-auth-oauthlib<2,>=0.5->tensorboard<2.16,>=2.15->tensorflow-intel==2.15.0->tensorflow) (1.3.1)\n",
      "Requirement already satisfied: charset-normalizer<4,>=2 in c:\\users\\adity\\appdata\\local\\programs\\python\\python311\\lib\\site-packages (from requests<3,>=2.21.0->tensorboard<2.16,>=2.15->tensorflow-intel==2.15.0->tensorflow) (3.3.2)\n",
      "Requirement already satisfied: idna<4,>=2.5 in c:\\users\\adity\\appdata\\local\\programs\\python\\python311\\lib\\site-packages (from requests<3,>=2.21.0->tensorboard<2.16,>=2.15->tensorflow-intel==2.15.0->tensorflow) (3.6)\n",
      "Requirement already satisfied: urllib3<3,>=1.21.1 in c:\\users\\adity\\appdata\\local\\programs\\python\\python311\\lib\\site-packages (from requests<3,>=2.21.0->tensorboard<2.16,>=2.15->tensorflow-intel==2.15.0->tensorflow) (2.1.0)\n",
      "Requirement already satisfied: certifi>=2017.4.17 in c:\\users\\adity\\appdata\\local\\programs\\python\\python311\\lib\\site-packages (from requests<3,>=2.21.0->tensorboard<2.16,>=2.15->tensorflow-intel==2.15.0->tensorflow) (2023.11.17)\n",
      "Requirement already satisfied: MarkupSafe>=2.1.1 in c:\\users\\adity\\appdata\\local\\programs\\python\\python311\\lib\\site-packages (from werkzeug>=1.0.1->tensorboard<2.16,>=2.15->tensorflow-intel==2.15.0->tensorflow) (2.1.4)\n",
      "Requirement already satisfied: pyasn1<0.6.0,>=0.4.6 in c:\\users\\adity\\appdata\\local\\programs\\python\\python311\\lib\\site-packages (from pyasn1-modules>=0.2.1->google-auth<3,>=1.6.3->tensorboard<2.16,>=2.15->tensorflow-intel==2.15.0->tensorflow) (0.5.1)\n",
      "Requirement already satisfied: oauthlib>=3.0.0 in c:\\users\\adity\\appdata\\local\\programs\\python\\python311\\lib\\site-packages (from requests-oauthlib>=0.7.0->google-auth-oauthlib<2,>=0.5->tensorboard<2.16,>=2.15->tensorflow-intel==2.15.0->tensorflow) (3.2.2)\n"
     ]
    }
   ],
   "source": [
    "%pip install tensorflow"
   ]
  },
  {
   "cell_type": "code",
   "execution_count": 72,
   "metadata": {},
   "outputs": [],
   "source": [
    "import tensorflow as tf\n",
    "import numpy as np\n",
    "import pandas as pd\n",
    "import matplotlib.pyplot as plt"
   ]
  },
  {
   "cell_type": "code",
   "execution_count": 73,
   "metadata": {},
   "outputs": [],
   "source": [
    "# read the data\n",
    "#-------------------\n",
    "data = pd.read_csv(\"final_data.csv\")\n",
    "data.describe()\n",
    "data = data[data[\"mag\"] >= 3]"
   ]
  },
  {
   "cell_type": "code",
   "execution_count": 74,
   "metadata": {},
   "outputs": [
    {
     "data": {
      "text/html": [
       "<div>\n",
       "<style scoped>\n",
       "    .dataframe tbody tr th:only-of-type {\n",
       "        vertical-align: middle;\n",
       "    }\n",
       "\n",
       "    .dataframe tbody tr th {\n",
       "        vertical-align: top;\n",
       "    }\n",
       "\n",
       "    .dataframe thead th {\n",
       "        text-align: right;\n",
       "    }\n",
       "</style>\n",
       "<table border=\"1\" class=\"dataframe\">\n",
       "  <thead>\n",
       "    <tr style=\"text-align: right;\">\n",
       "      <th></th>\n",
       "      <th>latitude</th>\n",
       "      <th>longitude</th>\n",
       "      <th>mag</th>\n",
       "      <th>depth</th>\n",
       "      <th>timestamp</th>\n",
       "    </tr>\n",
       "  </thead>\n",
       "  <tbody>\n",
       "    <tr>\n",
       "      <th>count</th>\n",
       "      <td>664875.000000</td>\n",
       "      <td>664875.000000</td>\n",
       "      <td>664875.000000</td>\n",
       "      <td>664875.000000</td>\n",
       "      <td>6.648750e+05</td>\n",
       "    </tr>\n",
       "    <tr>\n",
       "      <th>mean</th>\n",
       "      <td>13.403848</td>\n",
       "      <td>9.950133</td>\n",
       "      <td>4.214894</td>\n",
       "      <td>66.061349</td>\n",
       "      <td>1.050162e+09</td>\n",
       "    </tr>\n",
       "    <tr>\n",
       "      <th>std</th>\n",
       "      <td>30.206160</td>\n",
       "      <td>120.224505</td>\n",
       "      <td>0.694671</td>\n",
       "      <td>111.978909</td>\n",
       "      <td>3.944005e+08</td>\n",
       "    </tr>\n",
       "    <tr>\n",
       "      <th>min</th>\n",
       "      <td>-84.422000</td>\n",
       "      <td>-179.999000</td>\n",
       "      <td>3.000000</td>\n",
       "      <td>0.000000</td>\n",
       "      <td>9.472320e+07</td>\n",
       "    </tr>\n",
       "    <tr>\n",
       "      <th>25%</th>\n",
       "      <td>-9.260000</td>\n",
       "      <td>-97.258000</td>\n",
       "      <td>3.700000</td>\n",
       "      <td>10.000000</td>\n",
       "      <td>7.903134e+08</td>\n",
       "    </tr>\n",
       "    <tr>\n",
       "      <th>50%</th>\n",
       "      <td>17.368000</td>\n",
       "      <td>21.795000</td>\n",
       "      <td>4.300000</td>\n",
       "      <td>33.000000</td>\n",
       "      <td>1.113404e+09</td>\n",
       "    </tr>\n",
       "    <tr>\n",
       "      <th>75%</th>\n",
       "      <td>38.000000</td>\n",
       "      <td>128.434000</td>\n",
       "      <td>4.700000</td>\n",
       "      <td>60.300000</td>\n",
       "      <td>1.377632e+09</td>\n",
       "    </tr>\n",
       "    <tr>\n",
       "      <th>max</th>\n",
       "      <td>87.386000</td>\n",
       "      <td>180.000000</td>\n",
       "      <td>9.100000</td>\n",
       "      <td>735.800000</td>\n",
       "      <td>1.641010e+09</td>\n",
       "    </tr>\n",
       "  </tbody>\n",
       "</table>\n",
       "</div>"
      ],
      "text/plain": [
       "            latitude      longitude            mag          depth  \\\n",
       "count  664875.000000  664875.000000  664875.000000  664875.000000   \n",
       "mean       13.403848       9.950133       4.214894      66.061349   \n",
       "std        30.206160     120.224505       0.694671     111.978909   \n",
       "min       -84.422000    -179.999000       3.000000       0.000000   \n",
       "25%        -9.260000     -97.258000       3.700000      10.000000   \n",
       "50%        17.368000      21.795000       4.300000      33.000000   \n",
       "75%        38.000000     128.434000       4.700000      60.300000   \n",
       "max        87.386000     180.000000       9.100000     735.800000   \n",
       "\n",
       "          timestamp  \n",
       "count  6.648750e+05  \n",
       "mean   1.050162e+09  \n",
       "std    3.944005e+08  \n",
       "min    9.472320e+07  \n",
       "25%    7.903134e+08  \n",
       "50%    1.113404e+09  \n",
       "75%    1.377632e+09  \n",
       "max    1.641010e+09  "
      ]
     },
     "execution_count": 74,
     "metadata": {},
     "output_type": "execute_result"
    }
   ],
   "source": [
    "data.describe()"
   ]
  },
  {
   "cell_type": "markdown",
   "metadata": {},
   "source": [
    "Training Data"
   ]
  },
  {
   "cell_type": "code",
   "execution_count": 75,
   "metadata": {},
   "outputs": [
    {
     "name": "stdout",
     "output_type": "stream",
     "text": [
      "(664875, 3) (664875, 2)\n",
      "(531900, 3) (531900, 2) (132975, 3) (132975, 2)\n"
     ]
    }
   ],
   "source": [
    "from sklearn.model_selection import train_test_split\n",
    "\n",
    "X = data[[\"latitude\", \"longitude\", \"timestamp\"]]\n",
    "y = data[[\"mag\", \"depth\"]]\n",
    "print(X.shape, y.shape)\n",
    "X_train, X_test, y_train, y_test = train_test_split(X, y, test_size=0.2, random_state=42)\n",
    "print(X_train.shape, y_train.shape, X_test.shape, y_test.shape)"
   ]
  },
  {
   "cell_type": "code",
   "execution_count": 76,
   "metadata": {},
   "outputs": [],
   "source": [
    "normalizer = tf.keras.layers.Normalization(axis=-1)\n",
    "normalizer.adapt(X_train)"
   ]
  },
  {
   "cell_type": "code",
   "execution_count": 77,
   "metadata": {},
   "outputs": [],
   "source": [
    "def get_basic_model():\n",
    "\tmodel = tf.keras.Sequential([\n",
    "\t\tnormalizer,\n",
    "\t\ttf.keras.layers.Dense(16, activation='relu', input_shape=(3,)),\n",
    "\t\ttf.keras.layers.Dense(16, activation='relu'),\n",
    "\t\ttf.keras.layers.Dense(2, activation='softmax')\n",
    "\t])\n",
    "\tmodel.compile(optimizer='adam',\n",
    "\t\t\tloss=tf.keras.losses.SquaredHinge(),\n",
    "\t\t\tmetrics=['accuracy'])\n",
    "\treturn model"
   ]
  },
  {
   "cell_type": "code",
   "execution_count": 78,
   "metadata": {},
   "outputs": [
    {
     "name": "stdout",
     "output_type": "stream",
     "text": [
      "Epoch 1/15\n",
      "16622/16622 [==============================] - 60s 4ms/step - loss: 0.0061 - accuracy: 0.9547 - val_loss: 0.0062 - val_accuracy: 0.9667\n",
      "Epoch 2/15\n",
      "16622/16622 [==============================] - 46s 3ms/step - loss: 0.0061 - accuracy: 0.9667 - val_loss: 0.0062 - val_accuracy: 0.9667\n",
      "Epoch 3/15\n",
      "16622/16622 [==============================] - 66s 4ms/step - loss: 0.0061 - accuracy: 0.9667 - val_loss: 0.0062 - val_accuracy: 0.9667\n",
      "Epoch 4/15\n",
      "16622/16622 [==============================] - 98s 6ms/step - loss: 0.0061 - accuracy: 0.9667 - val_loss: 0.0062 - val_accuracy: 0.9667\n",
      "Epoch 5/15\n",
      "16622/16622 [==============================] - 52s 3ms/step - loss: 0.0061 - accuracy: 0.9667 - val_loss: 0.0062 - val_accuracy: 0.9667\n",
      "Epoch 6/15\n",
      "16622/16622 [==============================] - 98s 6ms/step - loss: 0.0061 - accuracy: 0.9667 - val_loss: 0.0062 - val_accuracy: 0.9667\n",
      "Epoch 7/15\n",
      "16622/16622 [==============================] - 122s 7ms/step - loss: 0.0061 - accuracy: 0.9667 - val_loss: 0.0062 - val_accuracy: 0.9667\n",
      "Epoch 8/15\n",
      "16622/16622 [==============================] - 113s 7ms/step - loss: 0.0061 - accuracy: 0.9667 - val_loss: 0.0062 - val_accuracy: 0.9667\n",
      "Epoch 9/15\n",
      "16622/16622 [==============================] - 110s 7ms/step - loss: 0.0061 - accuracy: 0.9667 - val_loss: 0.0062 - val_accuracy: 0.9667\n",
      "Epoch 10/15\n",
      "16622/16622 [==============================] - 114s 7ms/step - loss: 0.0061 - accuracy: 0.9667 - val_loss: 0.0062 - val_accuracy: 0.9667\n",
      "Epoch 11/15\n",
      "16622/16622 [==============================] - 111s 7ms/step - loss: 0.0061 - accuracy: 0.9667 - val_loss: 0.0062 - val_accuracy: 0.9667\n",
      "Epoch 12/15\n",
      "16622/16622 [==============================] - 77s 5ms/step - loss: 0.0061 - accuracy: 0.9667 - val_loss: 0.0062 - val_accuracy: 0.9667\n",
      "Epoch 13/15\n",
      "16622/16622 [==============================] - 49s 3ms/step - loss: 0.0061 - accuracy: 0.9667 - val_loss: 0.0062 - val_accuracy: 0.9667\n",
      "Epoch 14/15\n",
      "16622/16622 [==============================] - 118s 7ms/step - loss: 0.0061 - accuracy: 0.9667 - val_loss: 0.0062 - val_accuracy: 0.9667\n",
      "Epoch 15/15\n",
      "16622/16622 [==============================] - 51s 3ms/step - loss: 0.0061 - accuracy: 0.9667 - val_loss: 0.0062 - val_accuracy: 0.9667\n"
     ]
    }
   ],
   "source": [
    "model = get_basic_model()\n",
    "history = model.fit(X_train, y_train, epochs=15, validation_data=(X_test, y_test))"
   ]
  },
  {
   "cell_type": "code",
   "execution_count": 66,
   "metadata": {},
   "outputs": [
    {
     "data": {
      "text/plain": [
       "{'loss': [0.01245432160794735,\n",
       "  0.004546043928712606,\n",
       "  0.004537333268672228,\n",
       "  0.004535944666713476,\n",
       "  0.004535396117717028,\n",
       "  0.004535133484750986,\n",
       "  0.004535007290542126,\n",
       "  0.004534891806542873,\n",
       "  0.004534792620688677,\n",
       "  0.004534732084721327,\n",
       "  0.004534699022769928,\n",
       "  0.004534689709544182,\n",
       "  0.004534686915576458,\n",
       "  0.004534686915576458,\n",
       "  0.004534686915576458],\n",
       " 'accuracy': [0.8218199014663696,\n",
       "  0.9666779637336731,\n",
       "  0.9666779637336731,\n",
       "  0.9666779637336731,\n",
       "  0.9666779637336731,\n",
       "  0.9666779637336731,\n",
       "  0.9666779637336731,\n",
       "  0.9666779637336731,\n",
       "  0.9666779637336731,\n",
       "  0.9666779637336731,\n",
       "  0.9666779637336731,\n",
       "  0.9666779637336731,\n",
       "  0.9666779637336731,\n",
       "  0.9666779637336731,\n",
       "  0.9666779637336731],\n",
       " 'val_loss': [0.00481219869107008,\n",
       "  0.004764414392411709,\n",
       "  0.004762360360473394,\n",
       "  0.004761787131428719,\n",
       "  0.0047612497583031654,\n",
       "  0.0047609843313694,\n",
       "  0.004760760813951492,\n",
       "  0.004760551266372204,\n",
       "  0.004760398529469967,\n",
       "  0.004760309122502804,\n",
       "  0.00476029422134161,\n",
       "  0.004760293290019035,\n",
       "  0.004760293290019035,\n",
       "  0.004760293290019035,\n",
       "  0.004760293290019035],\n",
       " 'val_accuracy': [0.9667080044746399,\n",
       "  0.9667080044746399,\n",
       "  0.9667080044746399,\n",
       "  0.9667080044746399,\n",
       "  0.9667080044746399,\n",
       "  0.9667080044746399,\n",
       "  0.9667080044746399,\n",
       "  0.9667080044746399,\n",
       "  0.9667080044746399,\n",
       "  0.9667080044746399,\n",
       "  0.9667080044746399,\n",
       "  0.9667080044746399,\n",
       "  0.9667080044746399,\n",
       "  0.9667080044746399,\n",
       "  0.9667080044746399]}"
      ]
     },
     "execution_count": 66,
     "metadata": {},
     "output_type": "execute_result"
    }
   ],
   "source": [
    "history.history"
   ]
  },
  {
   "cell_type": "code",
   "execution_count": 92,
   "metadata": {},
   "outputs": [
    {
     "name": "stdout",
     "output_type": "stream",
     "text": [
      "Collecting pyyamlNote: you may need to restart the kernel to use updated packages.\n",
      "\n",
      "  Downloading PyYAML-6.0.1-cp311-cp311-win_amd64.whl.metadata (2.1 kB)\n",
      "Requirement already satisfied: h5py in c:\\users\\adity\\appdata\\local\\programs\\python\\python311\\lib\\site-packages (3.10.0)\n",
      "Requirement already satisfied: numpy>=1.17.3 in c:\\users\\adity\\appdata\\local\\programs\\python\\python311\\lib\\site-packages (from h5py) (1.26.3)\n",
      "Downloading PyYAML-6.0.1-cp311-cp311-win_amd64.whl (144 kB)\n",
      "   ---------------------------------------- 0.0/144.7 kB ? eta -:--:--\n",
      "   -- ------------------------------------- 10.2/144.7 kB ? eta -:--:--\n",
      "   ---------------------------------------  143.4/144.7 kB 1.7 MB/s eta 0:00:01\n",
      "   ---------------------------------------- 144.7/144.7 kB 1.4 MB/s eta 0:00:00\n",
      "Installing collected packages: pyyaml\n",
      "Successfully installed pyyaml-6.0.1\n"
     ]
    }
   ],
   "source": [
    "%pip install pyyaml h5py"
   ]
  },
  {
   "cell_type": "code",
   "execution_count": 79,
   "metadata": {},
   "outputs": [
    {
     "name": "stdout",
     "output_type": "stream",
     "text": [
      "INFO:tensorflow:Assets written to: neural_network.tf\\assets\n"
     ]
    },
    {
     "name": "stderr",
     "output_type": "stream",
     "text": [
      "INFO:tensorflow:Assets written to: neural_network.tf\\assets\n"
     ]
    }
   ],
   "source": [
    "\n",
    "# Save the entire model as a `.keras` zip archive.\n",
    "model.save('neural_network.tf')"
   ]
  },
  {
   "cell_type": "code",
   "execution_count": 80,
   "metadata": {},
   "outputs": [],
   "source": [
    "new_model = tf.keras.models.load_model('neural_network.tf')"
   ]
  },
  {
   "cell_type": "code",
   "execution_count": 81,
   "metadata": {},
   "outputs": [
    {
     "name": "stdout",
     "output_type": "stream",
     "text": [
      "4/4 - 0s - loss: 1.1629e-04 - accuracy: 0.9500 - 184ms/epoch - 46ms/step\n"
     ]
    },
    {
     "data": {
      "text/plain": [
       "[0.00011628779611783102, 0.949999988079071]"
      ]
     },
     "execution_count": 81,
     "metadata": {},
     "output_type": "execute_result"
    }
   ],
   "source": [
    "new_model.evaluate(X_test[0:100], y_test[0:100], verbose=2)"
   ]
  },
  {
   "cell_type": "code",
   "execution_count": 82,
   "metadata": {},
   "outputs": [
    {
     "name": "stdout",
     "output_type": "stream",
     "text": [
      "4/4 [==============================] - 0s 4ms/step\n"
     ]
    },
    {
     "data": {
      "text/plain": [
       "array([[0.33158693, 0.66841304],\n",
       "       [0.35380352, 0.6461965 ],\n",
       "       [0.3605619 , 0.6394381 ],\n",
       "       [0.32884255, 0.6711575 ],\n",
       "       [0.35005096, 0.6499491 ],\n",
       "       [0.32884255, 0.6711575 ],\n",
       "       [0.32884255, 0.6711575 ],\n",
       "       [0.3301354 , 0.66986454],\n",
       "       [0.31713045, 0.68286955],\n",
       "       [0.33618748, 0.6638125 ],\n",
       "       [0.33382866, 0.6661713 ],\n",
       "       [0.3019063 , 0.6980937 ],\n",
       "       [0.3318341 , 0.6681659 ],\n",
       "       [0.31396034, 0.6860396 ],\n",
       "       [0.30863112, 0.6913689 ],\n",
       "       [0.3323582 , 0.6676418 ],\n",
       "       [0.27710223, 0.7228977 ],\n",
       "       [0.28867424, 0.71132576],\n",
       "       [0.32691705, 0.6730829 ],\n",
       "       [0.33786267, 0.66213727],\n",
       "       [0.32884255, 0.6711575 ],\n",
       "       [0.33614194, 0.6638581 ],\n",
       "       [0.28092125, 0.7190787 ],\n",
       "       [0.31836888, 0.68163115],\n",
       "       [0.32884255, 0.6711575 ],\n",
       "       [0.3665947 , 0.63340527],\n",
       "       [0.32166615, 0.6783338 ],\n",
       "       [0.31235313, 0.68764687],\n",
       "       [0.3460102 , 0.6539898 ],\n",
       "       [0.32884255, 0.6711575 ],\n",
       "       [0.32884255, 0.6711575 ],\n",
       "       [0.32884255, 0.6711575 ],\n",
       "       [0.267262  , 0.732738  ],\n",
       "       [0.33195114, 0.66804886],\n",
       "       [0.3241479 , 0.6758521 ],\n",
       "       [0.33416608, 0.665834  ],\n",
       "       [0.27372462, 0.7262754 ],\n",
       "       [0.28191084, 0.71808916],\n",
       "       [0.31878963, 0.68121034],\n",
       "       [0.3565555 , 0.64344454],\n",
       "       [0.3292307 , 0.6707693 ],\n",
       "       [0.34839165, 0.65160835],\n",
       "       [0.3311746 , 0.6688254 ],\n",
       "       [0.3320932 , 0.66790676],\n",
       "       [0.33348116, 0.66651887],\n",
       "       [0.34209347, 0.65790653],\n",
       "       [0.27981064, 0.7201893 ],\n",
       "       [0.3036836 , 0.6963164 ],\n",
       "       [0.29857454, 0.70142543],\n",
       "       [0.3402001 , 0.6597999 ],\n",
       "       [0.3332629 , 0.66673714],\n",
       "       [0.30615482, 0.69384515],\n",
       "       [0.33066502, 0.669335  ],\n",
       "       [0.3334083 , 0.6665917 ],\n",
       "       [0.32884255, 0.6711575 ],\n",
       "       [0.33869228, 0.66130775],\n",
       "       [0.32884255, 0.6711575 ],\n",
       "       [0.32192448, 0.67807555],\n",
       "       [0.32884255, 0.6711575 ],\n",
       "       [0.3539344 , 0.6460656 ],\n",
       "       [0.32914686, 0.67085314],\n",
       "       [0.32021832, 0.6797817 ],\n",
       "       [0.29699886, 0.70300114],\n",
       "       [0.323105  , 0.67689496],\n",
       "       [0.26737058, 0.7326295 ],\n",
       "       [0.31994864, 0.6800513 ],\n",
       "       [0.34140494, 0.658595  ],\n",
       "       [0.32715905, 0.67284095],\n",
       "       [0.2854434 , 0.7145566 ],\n",
       "       [0.3172957 , 0.68270427],\n",
       "       [0.32882315, 0.67117685],\n",
       "       [0.28469294, 0.71530706],\n",
       "       [0.3340004 , 0.66599953],\n",
       "       [0.33473405, 0.665266  ],\n",
       "       [0.30725852, 0.6927415 ],\n",
       "       [0.32947856, 0.67052144],\n",
       "       [0.3354929 , 0.66450703],\n",
       "       [0.29168937, 0.70831066],\n",
       "       [0.32121924, 0.6787808 ],\n",
       "       [0.3301982 , 0.6698018 ],\n",
       "       [0.3167593 , 0.6832407 ],\n",
       "       [0.29673934, 0.7032606 ],\n",
       "       [0.3347117 , 0.66528827],\n",
       "       [0.32884255, 0.6711575 ],\n",
       "       [0.32154146, 0.6784586 ],\n",
       "       [0.32884255, 0.6711575 ],\n",
       "       [0.26989   , 0.73011   ],\n",
       "       [0.32884255, 0.6711575 ],\n",
       "       [0.3260745 , 0.67392546],\n",
       "       [0.3041842 , 0.69581574],\n",
       "       [0.2713832 , 0.7286168 ],\n",
       "       [0.28736565, 0.7126343 ],\n",
       "       [0.29671738, 0.7032826 ],\n",
       "       [0.32884255, 0.6711575 ],\n",
       "       [0.35805705, 0.6419429 ],\n",
       "       [0.3328184 , 0.6671816 ],\n",
       "       [0.34743038, 0.65256965],\n",
       "       [0.33180994, 0.66819006],\n",
       "       [0.33243918, 0.6675608 ],\n",
       "       [0.32884255, 0.6711575 ]], dtype=float32)"
      ]
     },
     "execution_count": 82,
     "metadata": {},
     "output_type": "execute_result"
    }
   ],
   "source": [
    "new_model.predict(X_test[0:100])"
   ]
  },
  {
   "cell_type": "code",
   "execution_count": 83,
   "metadata": {},
   "outputs": [
    {
     "data": {
      "text/html": [
       "<div>\n",
       "<style scoped>\n",
       "    .dataframe tbody tr th:only-of-type {\n",
       "        vertical-align: middle;\n",
       "    }\n",
       "\n",
       "    .dataframe tbody tr th {\n",
       "        vertical-align: top;\n",
       "    }\n",
       "\n",
       "    .dataframe thead th {\n",
       "        text-align: right;\n",
       "    }\n",
       "</style>\n",
       "<table border=\"1\" class=\"dataframe\">\n",
       "  <thead>\n",
       "    <tr style=\"text-align: right;\">\n",
       "      <th></th>\n",
       "      <th>mag</th>\n",
       "      <th>depth</th>\n",
       "    </tr>\n",
       "  </thead>\n",
       "  <tbody>\n",
       "    <tr>\n",
       "      <th>171832</th>\n",
       "      <td>4.7</td>\n",
       "      <td>33.0</td>\n",
       "    </tr>\n",
       "    <tr>\n",
       "      <th>77284</th>\n",
       "      <td>3.8</td>\n",
       "      <td>120.0</td>\n",
       "    </tr>\n",
       "    <tr>\n",
       "      <th>693662</th>\n",
       "      <td>5.2</td>\n",
       "      <td>33.0</td>\n",
       "    </tr>\n",
       "    <tr>\n",
       "      <th>1611710</th>\n",
       "      <td>4.4</td>\n",
       "      <td>10.0</td>\n",
       "    </tr>\n",
       "    <tr>\n",
       "      <th>3068472</th>\n",
       "      <td>4.3</td>\n",
       "      <td>185.9</td>\n",
       "    </tr>\n",
       "    <tr>\n",
       "      <th>...</th>\n",
       "      <td>...</td>\n",
       "      <td>...</td>\n",
       "    </tr>\n",
       "    <tr>\n",
       "      <th>917786</th>\n",
       "      <td>3.3</td>\n",
       "      <td>124.8</td>\n",
       "    </tr>\n",
       "    <tr>\n",
       "      <th>2997505</th>\n",
       "      <td>5.2</td>\n",
       "      <td>10.0</td>\n",
       "    </tr>\n",
       "    <tr>\n",
       "      <th>650055</th>\n",
       "      <td>3.6</td>\n",
       "      <td>10.0</td>\n",
       "    </tr>\n",
       "    <tr>\n",
       "      <th>1571005</th>\n",
       "      <td>3.2</td>\n",
       "      <td>2.0</td>\n",
       "    </tr>\n",
       "    <tr>\n",
       "      <th>178663</th>\n",
       "      <td>4.9</td>\n",
       "      <td>44.0</td>\n",
       "    </tr>\n",
       "  </tbody>\n",
       "</table>\n",
       "<p>100 rows × 2 columns</p>\n",
       "</div>"
      ],
      "text/plain": [
       "         mag  depth\n",
       "171832   4.7   33.0\n",
       "77284    3.8  120.0\n",
       "693662   5.2   33.0\n",
       "1611710  4.4   10.0\n",
       "3068472  4.3  185.9\n",
       "...      ...    ...\n",
       "917786   3.3  124.8\n",
       "2997505  5.2   10.0\n",
       "650055   3.6   10.0\n",
       "1571005  3.2    2.0\n",
       "178663   4.9   44.0\n",
       "\n",
       "[100 rows x 2 columns]"
      ]
     },
     "execution_count": 83,
     "metadata": {},
     "output_type": "execute_result"
    }
   ],
   "source": [
    "y_test[0:100]"
   ]
  },
  {
   "cell_type": "code",
   "execution_count": 84,
   "metadata": {},
   "outputs": [
    {
     "name": "stdout",
     "output_type": "stream",
     "text": [
      "4/4 - 0s - loss: 1.1629e-04 - accuracy: 0.9500 - 53ms/epoch - 13ms/step\n"
     ]
    },
    {
     "data": {
      "text/plain": [
       "[0.00011628779611783102, 0.949999988079071]"
      ]
     },
     "execution_count": 84,
     "metadata": {},
     "output_type": "execute_result"
    }
   ],
   "source": [
    "new_model.evaluate(X_test[0:100], y_test[0:100], verbose=2)"
   ]
  }
 ],
 "metadata": {
  "kernelspec": {
   "display_name": "Python 3",
   "language": "python",
   "name": "python3"
  },
  "language_info": {
   "codemirror_mode": {
    "name": "ipython",
    "version": 3
   },
   "file_extension": ".py",
   "mimetype": "text/x-python",
   "name": "python",
   "nbconvert_exporter": "python",
   "pygments_lexer": "ipython3",
   "version": "3.11.5"
  }
 },
 "nbformat": 4,
 "nbformat_minor": 2
}
