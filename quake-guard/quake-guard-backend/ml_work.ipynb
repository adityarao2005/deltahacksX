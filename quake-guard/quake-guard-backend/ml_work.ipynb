{
 "cells": [
  {
   "cell_type": "markdown",
   "metadata": {},
   "source": [
    "# This is the training and testing notebook for the Machine Learning Model\n",
    "\n",
    "We are going to train and test different machine learning models for prediction based on our data.\n",
    "We are testing the following models: linear regression, decision tree, random forest, grid search, and neural networks.\n",
    "We are also going to use this to trunticate our data for unnecessarily values"
   ]
  },
  {
   "cell_type": "markdown",
   "metadata": {},
   "source": [
    "### Install the required dependencies: numpy, matplotlib, pandas, basemap, and skikit-learn"
   ]
  },
  {
   "cell_type": "code",
   "execution_count": 1,
   "metadata": {},
   "outputs": [
    {
     "name": "stdout",
     "output_type": "stream",
     "text": [
      "Requirement already satisfied: numpy in c:\\users\\adity\\appdata\\local\\programs\\python\\python311\\lib\\site-packages (1.26.3)Note: you may need to restart the kernel to use updated packages.\n",
      "\n",
      "Requirement already satisfied: matplotlib in c:\\users\\adity\\appdata\\local\\programs\\python\\python311\\lib\\site-packages (3.8.2)\n",
      "Requirement already satisfied: contourpy>=1.0.1 in c:\\users\\adity\\appdata\\local\\programs\\python\\python311\\lib\\site-packages (from matplotlib) (1.2.0)\n",
      "Requirement already satisfied: cycler>=0.10 in c:\\users\\adity\\appdata\\local\\programs\\python\\python311\\lib\\site-packages (from matplotlib) (0.12.1)\n",
      "Requirement already satisfied: fonttools>=4.22.0 in c:\\users\\adity\\appdata\\local\\programs\\python\\python311\\lib\\site-packages (from matplotlib) (4.47.2)\n",
      "Requirement already satisfied: kiwisolver>=1.3.1 in c:\\users\\adity\\appdata\\local\\programs\\python\\python311\\lib\\site-packages (from matplotlib) (1.4.5)\n",
      "Requirement already satisfied: numpy<2,>=1.21 in c:\\users\\adity\\appdata\\local\\programs\\python\\python311\\lib\\site-packages (from matplotlib) (1.26.3)\n",
      "Requirement already satisfied: packaging>=20.0 in c:\\users\\adity\\appdata\\roaming\\python\\python311\\site-packages (from matplotlib) (23.2)\n",
      "Requirement already satisfied: pillow>=8 in c:\\users\\adity\\appdata\\local\\programs\\python\\python311\\lib\\site-packages (from matplotlib) (10.2.0)\n",
      "Requirement already satisfied: pyparsing>=2.3.1 in c:\\users\\adity\\appdata\\local\\programs\\python\\python311\\lib\\site-packages (from matplotlib) (3.1.1)\n",
      "Requirement already satisfied: python-dateutil>=2.7 in c:\\users\\adity\\appdata\\roaming\\python\\python311\\site-packages (from matplotlib) (2.8.2)\n",
      "Requirement already satisfied: six>=1.5 in c:\\users\\adity\\appdata\\roaming\\python\\python311\\site-packages (from python-dateutil>=2.7->matplotlib) (1.16.0)\n",
      "Note: you may need to restart the kernel to use updated packages.\n",
      "Requirement already satisfied: pandas in c:\\users\\adity\\appdata\\local\\programs\\python\\python311\\lib\\site-packages (2.2.0)Note: you may need to restart the kernel to use updated packages.\n",
      "\n",
      "Requirement already satisfied: numpy<2,>=1.23.2 in c:\\users\\adity\\appdata\\local\\programs\\python\\python311\\lib\\site-packages (from pandas) (1.26.3)\n",
      "Requirement already satisfied: python-dateutil>=2.8.2 in c:\\users\\adity\\appdata\\roaming\\python\\python311\\site-packages (from pandas) (2.8.2)\n",
      "Requirement already satisfied: pytz>=2020.1 in c:\\users\\adity\\appdata\\local\\programs\\python\\python311\\lib\\site-packages (from pandas) (2023.3.post1)\n",
      "Requirement already satisfied: tzdata>=2022.7 in c:\\users\\adity\\appdata\\local\\programs\\python\\python311\\lib\\site-packages (from pandas) (2023.4)\n",
      "Requirement already satisfied: six>=1.5 in c:\\users\\adity\\appdata\\roaming\\python\\python311\\site-packages (from python-dateutil>=2.8.2->pandas) (1.16.0)\n",
      "Requirement already satisfied: basemap in c:\\users\\adity\\appdata\\local\\programs\\python\\python311\\lib\\site-packages (1.4.0)\n",
      "Requirement already satisfied: basemap-data<1.4,>=1.3.2 in c:\\users\\adity\\appdata\\local\\programs\\python\\python311\\lib\\site-packages (from basemap) (1.3.2)\n",
      "Requirement already satisfied: pyshp<2.4,>=1.2 in c:\\users\\adity\\appdata\\local\\programs\\python\\python311\\lib\\site-packages (from basemap) (2.3.1)\n",
      "Requirement already satisfied: matplotlib<3.9,>=1.5 in c:\\users\\adity\\appdata\\local\\programs\\python\\python311\\lib\\site-packages (from basemap) (3.8.2)\n",
      "Requirement already satisfied: pyproj<3.7.0,>=1.9.3 in c:\\users\\adity\\appdata\\local\\programs\\python\\python311\\lib\\site-packages (from basemap) (3.6.1)\n",
      "Requirement already satisfied: packaging<24.0,>=16.0 in c:\\users\\adity\\appdata\\roaming\\python\\python311\\site-packages (from basemap) (23.2)\n",
      "Requirement already satisfied: numpy<1.27,>=1.21 in c:\\users\\adity\\appdata\\local\\programs\\python\\python311\\lib\\site-packages (from basemap) (1.26.3)\n",
      "Requirement already satisfied: contourpy>=1.0.1 in c:\\users\\adity\\appdata\\local\\programs\\python\\python311\\lib\\site-packages (from matplotlib<3.9,>=1.5->basemap) (1.2.0)\n",
      "Requirement already satisfied: cycler>=0.10 in c:\\users\\adity\\appdata\\local\\programs\\python\\python311\\lib\\site-packages (from matplotlib<3.9,>=1.5->basemap) (0.12.1)\n",
      "Requirement already satisfied: fonttools>=4.22.0 in c:\\users\\adity\\appdata\\local\\programs\\python\\python311\\lib\\site-packages (from matplotlib<3.9,>=1.5->basemap) (4.47.2)\n",
      "Requirement already satisfied: kiwisolver>=1.3.1 in c:\\users\\adity\\appdata\\local\\programs\\python\\python311\\lib\\site-packages (from matplotlib<3.9,>=1.5->basemap) (1.4.5)\n",
      "Requirement already satisfied: pillow>=8 in c:\\users\\adity\\appdata\\local\\programs\\python\\python311\\lib\\site-packages (from matplotlib<3.9,>=1.5->basemap) (10.2.0)\n",
      "Requirement already satisfied: pyparsing>=2.3.1 in c:\\users\\adity\\appdata\\local\\programs\\python\\python311\\lib\\site-packages (from matplotlib<3.9,>=1.5->basemap) (3.1.1)\n",
      "Requirement already satisfied: python-dateutil>=2.7 in c:\\users\\adity\\appdata\\roaming\\python\\python311\\site-packages (from matplotlib<3.9,>=1.5->basemap) (2.8.2)\n",
      "Requirement already satisfied: certifi in c:\\users\\adity\\appdata\\local\\programs\\python\\python311\\lib\\site-packages (from pyproj<3.7.0,>=1.9.3->basemap) (2023.11.17)\n",
      "Requirement already satisfied: six>=1.5 in c:\\users\\adity\\appdata\\roaming\\python\\python311\\site-packages (from python-dateutil>=2.7->matplotlib<3.9,>=1.5->basemap) (1.16.0)\n",
      "Note: you may need to restart the kernel to use updated packages.\n",
      "Requirement already satisfied: scikit-learn in c:\\users\\adity\\appdata\\local\\programs\\python\\python311\\lib\\site-packages (1.4.0)\n",
      "Requirement already satisfied: numpy<2.0,>=1.19.5 in c:\\users\\adity\\appdata\\local\\programs\\python\\python311\\lib\\site-packages (from scikit-learn) (1.26.3)\n",
      "Requirement already satisfied: scipy>=1.6.0 in c:\\users\\adity\\appdata\\local\\programs\\python\\python311\\lib\\site-packages (from scikit-learn) (1.12.0)\n",
      "Requirement already satisfied: joblib>=1.2.0 in c:\\users\\adity\\appdata\\local\\programs\\python\\python311\\lib\\site-packages (from scikit-learn) (1.3.2)\n",
      "Requirement already satisfied: threadpoolctl>=2.0.0 in c:\\users\\adity\\appdata\\local\\programs\\python\\python311\\lib\\site-packages (from scikit-learn) (3.2.0)\n",
      "Note: you may need to restart the kernel to use updated packages.\n",
      "Requirement already satisfied: scipy in c:\\users\\adity\\appdata\\local\\programs\\python\\python311\\lib\\site-packages (1.12.0)\n",
      "Requirement already satisfied: numpy<1.29.0,>=1.22.4 in c:\\users\\adity\\appdata\\local\\programs\\python\\python311\\lib\\site-packages (from scipy) (1.26.3)\n",
      "Note: you may need to restart the kernel to use updated packages.\n",
      "Requirement already satisfied: xgboost in c:\\users\\adity\\appdata\\local\\programs\\python\\python311\\lib\\site-packages (2.0.3)Note: you may need to restart the kernel to use updated packages.\n",
      "\n",
      "Requirement already satisfied: numpy in c:\\users\\adity\\appdata\\local\\programs\\python\\python311\\lib\\site-packages (from xgboost) (1.26.3)\n",
      "Requirement already satisfied: scipy in c:\\users\\adity\\appdata\\local\\programs\\python\\python311\\lib\\site-packages (from xgboost) (1.12.0)\n",
      "Requirement already satisfied: dill in c:\\users\\adity\\appdata\\local\\programs\\python\\python311\\lib\\site-packages (0.3.7)\n",
      "Note: you may need to restart the kernel to use updated packages.\n",
      "Requirement already satisfied: tensorflow in c:\\users\\adity\\appdata\\local\\programs\\python\\python311\\lib\\site-packages (2.15.0)Note: you may need to restart the kernel to use updated packages.\n",
      "\n",
      "Requirement already satisfied: tensorflow-intel==2.15.0 in c:\\users\\adity\\appdata\\local\\programs\\python\\python311\\lib\\site-packages (from tensorflow) (2.15.0)\n",
      "Requirement already satisfied: absl-py>=1.0.0 in c:\\users\\adity\\appdata\\local\\programs\\python\\python311\\lib\\site-packages (from tensorflow-intel==2.15.0->tensorflow) (2.1.0)\n",
      "Requirement already satisfied: astunparse>=1.6.0 in c:\\users\\adity\\appdata\\local\\programs\\python\\python311\\lib\\site-packages (from tensorflow-intel==2.15.0->tensorflow) (1.6.3)\n",
      "Requirement already satisfied: flatbuffers>=23.5.26 in c:\\users\\adity\\appdata\\local\\programs\\python\\python311\\lib\\site-packages (from tensorflow-intel==2.15.0->tensorflow) (23.5.26)\n",
      "Requirement already satisfied: gast!=0.5.0,!=0.5.1,!=0.5.2,>=0.2.1 in c:\\users\\adity\\appdata\\local\\programs\\python\\python311\\lib\\site-packages (from tensorflow-intel==2.15.0->tensorflow) (0.5.4)\n",
      "Requirement already satisfied: google-pasta>=0.1.1 in c:\\users\\adity\\appdata\\local\\programs\\python\\python311\\lib\\site-packages (from tensorflow-intel==2.15.0->tensorflow) (0.2.0)\n",
      "Requirement already satisfied: h5py>=2.9.0 in c:\\users\\adity\\appdata\\local\\programs\\python\\python311\\lib\\site-packages (from tensorflow-intel==2.15.0->tensorflow) (3.10.0)\n",
      "Requirement already satisfied: libclang>=13.0.0 in c:\\users\\adity\\appdata\\local\\programs\\python\\python311\\lib\\site-packages (from tensorflow-intel==2.15.0->tensorflow) (16.0.6)\n",
      "Requirement already satisfied: ml-dtypes~=0.2.0 in c:\\users\\adity\\appdata\\local\\programs\\python\\python311\\lib\\site-packages (from tensorflow-intel==2.15.0->tensorflow) (0.2.0)\n",
      "Requirement already satisfied: numpy<2.0.0,>=1.23.5 in c:\\users\\adity\\appdata\\local\\programs\\python\\python311\\lib\\site-packages (from tensorflow-intel==2.15.0->tensorflow) (1.26.3)\n",
      "Requirement already satisfied: opt-einsum>=2.3.2 in c:\\users\\adity\\appdata\\local\\programs\\python\\python311\\lib\\site-packages (from tensorflow-intel==2.15.0->tensorflow) (3.3.0)\n",
      "Requirement already satisfied: packaging in c:\\users\\adity\\appdata\\roaming\\python\\python311\\site-packages (from tensorflow-intel==2.15.0->tensorflow) (23.2)\n",
      "Requirement already satisfied: protobuf!=4.21.0,!=4.21.1,!=4.21.2,!=4.21.3,!=4.21.4,!=4.21.5,<5.0.0dev,>=3.20.3 in c:\\users\\adity\\appdata\\local\\programs\\python\\python311\\lib\\site-packages (from tensorflow-intel==2.15.0->tensorflow) (4.23.4)\n",
      "Requirement already satisfied: setuptools in c:\\users\\adity\\appdata\\local\\programs\\python\\python311\\lib\\site-packages (from tensorflow-intel==2.15.0->tensorflow) (65.5.0)\n",
      "Requirement already satisfied: six>=1.12.0 in c:\\users\\adity\\appdata\\roaming\\python\\python311\\site-packages (from tensorflow-intel==2.15.0->tensorflow) (1.16.0)\n",
      "Requirement already satisfied: termcolor>=1.1.0 in c:\\users\\adity\\appdata\\local\\programs\\python\\python311\\lib\\site-packages (from tensorflow-intel==2.15.0->tensorflow) (2.4.0)\n",
      "Requirement already satisfied: typing-extensions>=3.6.6 in c:\\users\\adity\\appdata\\local\\programs\\python\\python311\\lib\\site-packages (from tensorflow-intel==2.15.0->tensorflow) (4.9.0)\n",
      "Requirement already satisfied: wrapt<1.15,>=1.11.0 in c:\\users\\adity\\appdata\\local\\programs\\python\\python311\\lib\\site-packages (from tensorflow-intel==2.15.0->tensorflow) (1.14.1)\n",
      "Requirement already satisfied: tensorflow-io-gcs-filesystem>=0.23.1 in c:\\users\\adity\\appdata\\local\\programs\\python\\python311\\lib\\site-packages (from tensorflow-intel==2.15.0->tensorflow) (0.31.0)\n",
      "Requirement already satisfied: grpcio<2.0,>=1.24.3 in c:\\users\\adity\\appdata\\local\\programs\\python\\python311\\lib\\site-packages (from tensorflow-intel==2.15.0->tensorflow) (1.60.0)\n",
      "Requirement already satisfied: tensorboard<2.16,>=2.15 in c:\\users\\adity\\appdata\\local\\programs\\python\\python311\\lib\\site-packages (from tensorflow-intel==2.15.0->tensorflow) (2.15.1)\n",
      "Requirement already satisfied: tensorflow-estimator<2.16,>=2.15.0 in c:\\users\\adity\\appdata\\local\\programs\\python\\python311\\lib\\site-packages (from tensorflow-intel==2.15.0->tensorflow) (2.15.0)\n",
      "Requirement already satisfied: keras<2.16,>=2.15.0 in c:\\users\\adity\\appdata\\local\\programs\\python\\python311\\lib\\site-packages (from tensorflow-intel==2.15.0->tensorflow) (2.15.0)\n",
      "Requirement already satisfied: wheel<1.0,>=0.23.0 in c:\\users\\adity\\appdata\\local\\programs\\python\\python311\\lib\\site-packages (from astunparse>=1.6.0->tensorflow-intel==2.15.0->tensorflow) (0.42.0)\n",
      "Requirement already satisfied: google-auth<3,>=1.6.3 in c:\\users\\adity\\appdata\\local\\programs\\python\\python311\\lib\\site-packages (from tensorboard<2.16,>=2.15->tensorflow-intel==2.15.0->tensorflow) (2.27.0)\n",
      "Requirement already satisfied: google-auth-oauthlib<2,>=0.5 in c:\\users\\adity\\appdata\\local\\programs\\python\\python311\\lib\\site-packages (from tensorboard<2.16,>=2.15->tensorflow-intel==2.15.0->tensorflow) (1.2.0)\n",
      "Requirement already satisfied: markdown>=2.6.8 in c:\\users\\adity\\appdata\\local\\programs\\python\\python311\\lib\\site-packages (from tensorboard<2.16,>=2.15->tensorflow-intel==2.15.0->tensorflow) (3.5.2)\n",
      "Requirement already satisfied: requests<3,>=2.21.0 in c:\\users\\adity\\appdata\\local\\programs\\python\\python311\\lib\\site-packages (from tensorboard<2.16,>=2.15->tensorflow-intel==2.15.0->tensorflow) (2.31.0)\n",
      "Requirement already satisfied: tensorboard-data-server<0.8.0,>=0.7.0 in c:\\users\\adity\\appdata\\local\\programs\\python\\python311\\lib\\site-packages (from tensorboard<2.16,>=2.15->tensorflow-intel==2.15.0->tensorflow) (0.7.2)\n",
      "Requirement already satisfied: werkzeug>=1.0.1 in c:\\users\\adity\\appdata\\local\\programs\\python\\python311\\lib\\site-packages (from tensorboard<2.16,>=2.15->tensorflow-intel==2.15.0->tensorflow) (3.0.1)\n",
      "Requirement already satisfied: cachetools<6.0,>=2.0.0 in c:\\users\\adity\\appdata\\local\\programs\\python\\python311\\lib\\site-packages (from google-auth<3,>=1.6.3->tensorboard<2.16,>=2.15->tensorflow-intel==2.15.0->tensorflow) (5.3.2)\n",
      "Requirement already satisfied: pyasn1-modules>=0.2.1 in c:\\users\\adity\\appdata\\local\\programs\\python\\python311\\lib\\site-packages (from google-auth<3,>=1.6.3->tensorboard<2.16,>=2.15->tensorflow-intel==2.15.0->tensorflow) (0.3.0)\n",
      "Requirement already satisfied: rsa<5,>=3.1.4 in c:\\users\\adity\\appdata\\local\\programs\\python\\python311\\lib\\site-packages (from google-auth<3,>=1.6.3->tensorboard<2.16,>=2.15->tensorflow-intel==2.15.0->tensorflow) (4.9)\n",
      "Requirement already satisfied: requests-oauthlib>=0.7.0 in c:\\users\\adity\\appdata\\local\\programs\\python\\python311\\lib\\site-packages (from google-auth-oauthlib<2,>=0.5->tensorboard<2.16,>=2.15->tensorflow-intel==2.15.0->tensorflow) (1.3.1)\n",
      "Requirement already satisfied: charset-normalizer<4,>=2 in c:\\users\\adity\\appdata\\local\\programs\\python\\python311\\lib\\site-packages (from requests<3,>=2.21.0->tensorboard<2.16,>=2.15->tensorflow-intel==2.15.0->tensorflow) (3.3.2)\n",
      "Requirement already satisfied: idna<4,>=2.5 in c:\\users\\adity\\appdata\\local\\programs\\python\\python311\\lib\\site-packages (from requests<3,>=2.21.0->tensorboard<2.16,>=2.15->tensorflow-intel==2.15.0->tensorflow) (3.6)\n",
      "Requirement already satisfied: urllib3<3,>=1.21.1 in c:\\users\\adity\\appdata\\local\\programs\\python\\python311\\lib\\site-packages (from requests<3,>=2.21.0->tensorboard<2.16,>=2.15->tensorflow-intel==2.15.0->tensorflow) (2.1.0)\n",
      "Requirement already satisfied: certifi>=2017.4.17 in c:\\users\\adity\\appdata\\local\\programs\\python\\python311\\lib\\site-packages (from requests<3,>=2.21.0->tensorboard<2.16,>=2.15->tensorflow-intel==2.15.0->tensorflow) (2023.11.17)\n",
      "Requirement already satisfied: MarkupSafe>=2.1.1 in c:\\users\\adity\\appdata\\local\\programs\\python\\python311\\lib\\site-packages (from werkzeug>=1.0.1->tensorboard<2.16,>=2.15->tensorflow-intel==2.15.0->tensorflow) (2.1.4)\n",
      "Requirement already satisfied: pyasn1<0.6.0,>=0.4.6 in c:\\users\\adity\\appdata\\local\\programs\\python\\python311\\lib\\site-packages (from pyasn1-modules>=0.2.1->google-auth<3,>=1.6.3->tensorboard<2.16,>=2.15->tensorflow-intel==2.15.0->tensorflow) (0.5.1)\n",
      "Requirement already satisfied: oauthlib>=3.0.0 in c:\\users\\adity\\appdata\\local\\programs\\python\\python311\\lib\\site-packages (from requests-oauthlib>=0.7.0->google-auth-oauthlib<2,>=0.5->tensorboard<2.16,>=2.15->tensorflow-intel==2.15.0->tensorflow) (3.2.2)\n"
     ]
    }
   ],
   "source": [
    "%pip install numpy\n",
    "%pip install matplotlib\n",
    "%pip install pandas\n",
    "%pip install basemap\n",
    "%pip install scikit-learn\n",
    "%pip install scipy\n",
    "%pip install xgboost\n",
    "%pip install dill\n",
    "%pip install tensorflow"
   ]
  },
  {
   "cell_type": "markdown",
   "metadata": {},
   "source": [
    "### Import the required dependencies: numpy, pandas, matplotlib, and basemap for viewing the data"
   ]
  },
  {
   "cell_type": "code",
   "execution_count": 3,
   "metadata": {},
   "outputs": [
    {
     "name": "stderr",
     "output_type": "stream",
     "text": [
      "C:\\Users\\adity\\AppData\\Local\\Temp\\ipykernel_30712\\1059180270.py:4: DeprecationWarning: \n",
      "Pyarrow will become a required dependency of pandas in the next major release of pandas (pandas 3.0),\n",
      "(to allow more performant data types, such as the Arrow string type, and better interoperability with other libraries)\n",
      "but was not found to be installed on your system.\n",
      "If this would cause problems for you,\n",
      "please provide us feedback at https://github.com/pandas-dev/pandas/issues/54466\n",
      "        \n",
      "  import pandas as pd\n"
     ]
    }
   ],
   "source": [
    "# import required dependancies\n",
    "#-----------------------------\n",
    "import numpy as np\n",
    "import pandas as pd\n",
    "import matplotlib.pyplot as plt\n",
    "from mpl_toolkits.basemap import Basemap"
   ]
  },
  {
   "cell_type": "markdown",
   "metadata": {},
   "source": [
    "### Read and describe the data from the csv file"
   ]
  },
  {
   "cell_type": "code",
   "execution_count": 4,
   "metadata": {},
   "outputs": [
    {
     "data": {
      "text/html": [
       "<div>\n",
       "<style scoped>\n",
       "    .dataframe tbody tr th:only-of-type {\n",
       "        vertical-align: middle;\n",
       "    }\n",
       "\n",
       "    .dataframe tbody tr th {\n",
       "        vertical-align: top;\n",
       "    }\n",
       "\n",
       "    .dataframe thead th {\n",
       "        text-align: right;\n",
       "    }\n",
       "</style>\n",
       "<table border=\"1\" class=\"dataframe\">\n",
       "  <thead>\n",
       "    <tr style=\"text-align: right;\">\n",
       "      <th></th>\n",
       "      <th>latitude</th>\n",
       "      <th>longitude</th>\n",
       "      <th>mag</th>\n",
       "      <th>depth</th>\n",
       "      <th>timestamp</th>\n",
       "    </tr>\n",
       "  </thead>\n",
       "  <tbody>\n",
       "    <tr>\n",
       "      <th>count</th>\n",
       "      <td>3.749279e+06</td>\n",
       "      <td>3.749279e+06</td>\n",
       "      <td>3.749279e+06</td>\n",
       "      <td>3.749279e+06</td>\n",
       "      <td>3.749279e+06</td>\n",
       "    </tr>\n",
       "    <tr>\n",
       "      <th>mean</th>\n",
       "      <td>3.610546e+01</td>\n",
       "      <td>-9.983861e+01</td>\n",
       "      <td>1.900921e+00</td>\n",
       "      <td>2.256044e+01</td>\n",
       "      <td>1.114155e+09</td>\n",
       "    </tr>\n",
       "    <tr>\n",
       "      <th>std</th>\n",
       "      <td>2.004812e+01</td>\n",
       "      <td>7.768673e+01</td>\n",
       "      <td>1.266708e+00</td>\n",
       "      <td>5.530050e+01</td>\n",
       "      <td>3.890529e+08</td>\n",
       "    </tr>\n",
       "    <tr>\n",
       "      <th>min</th>\n",
       "      <td>-8.442200e+01</td>\n",
       "      <td>-1.799990e+02</td>\n",
       "      <td>1.000000e-02</td>\n",
       "      <td>0.000000e+00</td>\n",
       "      <td>9.471240e+07</td>\n",
       "    </tr>\n",
       "    <tr>\n",
       "      <th>25%</th>\n",
       "      <td>3.368367e+01</td>\n",
       "      <td>-1.416976e+02</td>\n",
       "      <td>1.000000e+00</td>\n",
       "      <td>3.340000e+00</td>\n",
       "      <td>8.231220e+08</td>\n",
       "    </tr>\n",
       "    <tr>\n",
       "      <th>50%</th>\n",
       "      <td>3.756700e+01</td>\n",
       "      <td>-1.189253e+02</td>\n",
       "      <td>1.550000e+00</td>\n",
       "      <td>7.547000e+00</td>\n",
       "      <td>1.184695e+09</td>\n",
       "    </tr>\n",
       "    <tr>\n",
       "      <th>75%</th>\n",
       "      <td>4.451600e+01</td>\n",
       "      <td>-1.159252e+02</td>\n",
       "      <td>2.400000e+00</td>\n",
       "      <td>1.560000e+01</td>\n",
       "      <td>1.452330e+09</td>\n",
       "    </tr>\n",
       "    <tr>\n",
       "      <th>max</th>\n",
       "      <td>8.738600e+01</td>\n",
       "      <td>1.800000e+02</td>\n",
       "      <td>9.100000e+00</td>\n",
       "      <td>7.358000e+02</td>\n",
       "      <td>1.641010e+09</td>\n",
       "    </tr>\n",
       "  </tbody>\n",
       "</table>\n",
       "</div>"
      ],
      "text/plain": [
       "           latitude     longitude           mag         depth     timestamp\n",
       "count  3.749279e+06  3.749279e+06  3.749279e+06  3.749279e+06  3.749279e+06\n",
       "mean   3.610546e+01 -9.983861e+01  1.900921e+00  2.256044e+01  1.114155e+09\n",
       "std    2.004812e+01  7.768673e+01  1.266708e+00  5.530050e+01  3.890529e+08\n",
       "min   -8.442200e+01 -1.799990e+02  1.000000e-02  0.000000e+00  9.471240e+07\n",
       "25%    3.368367e+01 -1.416976e+02  1.000000e+00  3.340000e+00  8.231220e+08\n",
       "50%    3.756700e+01 -1.189253e+02  1.550000e+00  7.547000e+00  1.184695e+09\n",
       "75%    4.451600e+01 -1.159252e+02  2.400000e+00  1.560000e+01  1.452330e+09\n",
       "max    8.738600e+01  1.800000e+02  9.100000e+00  7.358000e+02  1.641010e+09"
      ]
     },
     "execution_count": 4,
     "metadata": {},
     "output_type": "execute_result"
    }
   ],
   "source": [
    "# read the data\n",
    "#-------------------\n",
    "data = pd.read_csv(\"final_data.csv\")\n",
    "data.describe()"
   ]
  },
  {
   "cell_type": "markdown",
   "metadata": {},
   "source": [
    "### Plot the values for data visualization"
   ]
  },
  {
   "cell_type": "code",
   "execution_count": null,
   "metadata": {},
   "outputs": [],
   "source": [
    "m = Basemap(projection='mill',llcrnrlat=-80,urcrnrlat=80, llcrnrlon=-180,urcrnrlon=180,lat_ts=20,resolution='c')\n",
    "\n",
    "longitudes = data[\"longitude\"].tolist()\n",
    "latitudes = data[\"latitude\"].tolist()\n",
    "#m = Basemap(width=12000000,height=9000000,projection='lcc', resolution=None,lat_1=80.,lat_2=55,lat_0=80,lon_0=-107.)\n",
    "x,y = m(longitudes,latitudes)\n",
    "fig = plt.figure(figsize=(12,10))\n",
    "plt.title(\"All affected areas\")\n",
    "m.plot(x, y, \"o\", markersize = 2, color = 'blue')\n",
    "m.drawcoastlines()\n",
    "m.fillcontinents(color='coral',lake_color='aqua')\n",
    "m.drawmapboundary()\n",
    "m.drawcountries()\n",
    "plt.show()"
   ]
  },
  {
   "cell_type": "markdown",
   "metadata": {},
   "source": [
    "## Hard core ML stuff begin here"
   ]
  },
  {
   "cell_type": "code",
   "execution_count": 5,
   "metadata": {},
   "outputs": [
    {
     "name": "stdout",
     "output_type": "stream",
     "text": [
      "(2999423, 3) (749856, 3) (2999423, 2) (749856, 3)\n"
     ]
    }
   ],
   "source": [
    "# create our data for training and testing\n",
    "X = data[['timestamp', 'latitude', 'longitude']]\n",
    "y = data[['mag', 'depth']]\n",
    "\n",
    "from sklearn.model_selection import train_test_split\n",
    "\n",
    "X_train, X_test, y_train, y_test = train_test_split(X, y, test_size=0.2, random_state=42)\n",
    "print(X_train.shape, X_test.shape, y_train.shape, X_test.shape)"
   ]
  },
  {
   "cell_type": "markdown",
   "metadata": {},
   "source": [
    "### This is our train and test for LINEAR REGRESSION MODEL"
   ]
  },
  {
   "cell_type": "code",
   "execution_count": 30,
   "metadata": {},
   "outputs": [
    {
     "data": {
      "text/plain": [
       "0.2645730311363322"
      ]
     },
     "execution_count": 30,
     "metadata": {},
     "output_type": "execute_result"
    }
   ],
   "source": [
    "from sklearn.linear_model import LinearRegression\n",
    "\n",
    "linear_regressor = LinearRegression()\n",
    "linear_regressor.fit(X_train, y_train)\n",
    "linear_regressor.score(X_test, y_test)"
   ]
  },
  {
   "cell_type": "markdown",
   "metadata": {},
   "source": [
    "The score for the linear regression model is: 26%. Not good\n",
    "\n",
    "### Lets train and test for Decision Tree Regressor"
   ]
  },
  {
   "cell_type": "code",
   "execution_count": 31,
   "metadata": {},
   "outputs": [
    {
     "data": {
      "text/plain": [
       "0.7770814361611147"
      ]
     },
     "execution_count": 31,
     "metadata": {},
     "output_type": "execute_result"
    }
   ],
   "source": [
    "from sklearn.tree import DecisionTreeRegressor\n",
    "decisiontree_regressor = DecisionTreeRegressor(random_state=0)\n",
    "decisiontree_regressor.fit(X_train, y_train)\n",
    "decisiontree_regressor.score(X_test, y_test)"
   ]
  },
  {
   "cell_type": "markdown",
   "metadata": {},
   "source": [
    "The score for the Decision Tree Regressor is: 77%. Better, but not the best.\n",
    "\n",
    "### Let's try working with XGBoost\n"
   ]
  },
  {
   "cell_type": "code",
   "execution_count": 32,
   "metadata": {},
   "outputs": [
    {
     "name": "stderr",
     "output_type": "stream",
     "text": [
      "c:\\Users\\adity\\AppData\\Local\\Programs\\Python\\Python311\\Lib\\site-packages\\xgboost\\core.py:160: UserWarning: [23:09:09] WARNING: C:\\buildkite-agent\\builds\\buildkite-windows-cpu-autoscaling-group-i-0b3782d1791676daf-1\\xgboost\\xgboost-ci-windows\\src\\objective\\regression_obj.cu:209: reg:linear is now deprecated in favor of reg:squarederror.\n",
      "  warnings.warn(smsg, UserWarning)\n"
     ]
    },
    {
     "data": {
      "text/plain": [
       "0.8261888851791132"
      ]
     },
     "execution_count": 32,
     "metadata": {},
     "output_type": "execute_result"
    }
   ],
   "source": [
    "import xgboost as xgb\n",
    "\n",
    "xgb_model = xgb.XGBRegressor(objective=\"reg:linear\", random_state=42)\n",
    "xgb_model.fit(X_train, y_train)\n",
    "xgb_model.score(X_test, y_test)"
   ]
  },
  {
   "cell_type": "markdown",
   "metadata": {},
   "source": [
    "The score for XGBoost is 82%. Its pretty good, but we can do better.\n",
    "\n",
    "### Let's try working with the RandomForest Regressor"
   ]
  },
  {
   "cell_type": "code",
   "execution_count": 6,
   "metadata": {},
   "outputs": [
    {
     "data": {
      "text/plain": [
       "0.8786946505597895"
      ]
     },
     "execution_count": 6,
     "metadata": {},
     "output_type": "execute_result"
    }
   ],
   "source": [
    "from sklearn.ensemble import RandomForestRegressor\n",
    "randomforest_regressor = RandomForestRegressor(n_estimators=100, random_state=42)\n",
    "randomforest_regressor.fit(X_train, y_train)\n",
    "randomforest_regressor.score(X_test, y_test)"
   ]
  },
  {
   "cell_type": "code",
   "execution_count": 4,
   "metadata": {},
   "outputs": [
    {
     "data": {
      "text/plain": [
       "0.8688528742183084"
      ]
     },
     "execution_count": 4,
     "metadata": {},
     "output_type": "execute_result"
    }
   ],
   "source": [
    "from sklearn.ensemble import RandomForestRegressor\n",
    "randomforest_regressor2 = RandomForestRegressor(n_estimators=10, random_state=42)\n",
    "randomforest_regressor2.fit(X_train, y_train)\n",
    "randomforest_regressor2.score(X_test, y_test)"
   ]
  },
  {
   "cell_type": "markdown",
   "metadata": {},
   "source": [
    "87% is pretty good. Can we do better?\n",
    "\n",
    "### Let's use GridSearch to see how well we can optimize our findings"
   ]
  },
  {
   "cell_type": "code",
   "execution_count": 5,
   "metadata": {},
   "outputs": [
    {
     "name": "stdout",
     "output_type": "stream",
     "text": [
      "Initializing parameters\n",
      "Initializing grid search\n",
      "Fitting grid search\n"
     ]
    }
   ],
   "source": [
    "from sklearn.model_selection import GridSearchCV\n",
    "print(\"Initializing parameters\")\n",
    "parameters = {'n_estimators':[20, 50]}\n",
    "print(\"Initializing grid search\")\n",
    "grid_obj = GridSearchCV(randomforest_regressor2, parameters)\n",
    "print(\"Fitting grid search\")\n",
    "grid_fit = grid_obj.fit(X_train, y_train)\n",
    "print(\"Getting best estimator\")\n",
    "best_fit = grid_fit.best_estimator_\n",
    "print(\"Getting score\")\n",
    "best_fit.score(X_test, y_test)"
   ]
  },
  {
   "cell_type": "markdown",
   "metadata": {},
   "source": [
    "The score for the RandomForest Regressor is 88%. Can we do better?\n",
    "\n",
    "### Let's try using a Neural Network"
   ]
  },
  {
   "cell_type": "code",
   "execution_count": null,
   "metadata": {},
   "outputs": [],
   "source": [
    "import keras.api._v2.keras as keras\n",
    "import tensorflow as tf\n",
    "from keras.layers import Dense\n",
    "\n",
    "model = keras.Sequential()  \n",
    "model.add(Dense(16, activation='relu', input_shape=(3,)))  \n",
    "model.add(Dense(16, activation='relu'))  \n",
    "model.add(Dense(2, activation='softmax'))  \n",
    "  \n",
    "model.compile(optimizer='SGD', loss='squared_hinge', metrics=['accuracy'])  \n",
    "model.fit(X_train, y_train, batch_size=10, epochs=20, verbose=1, validation_data=(X_test, y_test))"
   ]
  },
  {
   "cell_type": "code",
   "execution_count": null,
   "metadata": {},
   "outputs": [],
   "source": [
    "%pip install dill"
   ]
  },
  {
   "cell_type": "markdown",
   "metadata": {},
   "source": [
    "The score for the RandomForest Regressor is 88%\n",
    "\n",
    "### Lets save the models now."
   ]
  },
  {
   "cell_type": "code",
   "execution_count": 8,
   "metadata": {},
   "outputs": [
    {
     "name": "stdout",
     "output_type": "stream",
     "text": [
      "Random forest Model saving\n",
      "Random forest Model saving\n"
     ]
    }
   ],
   "source": [
    "import dill as pickle\n",
    "\n",
    "# print(\"Linear Model saving\")\n",
    "# pickle.dump(linear_regressor, open('linear_regressor.pkl', 'wb'))\n",
    "# print(\"Linear Model saved\")\n",
    "# print(\"decision tree Model saving\")\n",
    "# pickle.dump(decisiontree_regressor, open('decisiontree_regressor.pkl', 'wb'))\n",
    "# print(\"decision tree Model saved\")\n",
    "# print(\"XGBoost forest Model saving\")\n",
    "# pickle.dump(xgb_model, open('xgboost_regressor.pkl', 'wb'))\n",
    "# print(\"XGBoost forest Model saved\")\n",
    "print(\"Random forest Model saving\")\n",
    "pickle.dump(randomforest_regressor2, open('randomforest_regressor.pkl', 'wb'))\n",
    "print(\"Random forest Model saving\")\n",
    "# print(\"Neural Network Model saving\")\n",
    "# pickle.dump(neural_network_model, open('neural_network.pkl', 'wb'))\n",
    "# print(\"Neural Network Model saving\")"
   ]
  },
  {
   "cell_type": "code",
   "execution_count": 1,
   "metadata": {},
   "outputs": [],
   "source": [
    "import dill as pickle\n",
    "randomforest_regressor3 = pickle.load(open('randomforest_regressor.pkl', 'rb'))"
   ]
  },
  {
   "cell_type": "code",
   "execution_count": 6,
   "metadata": {},
   "outputs": [
    {
     "data": {
      "text/plain": [
       "0.8688528742183084"
      ]
     },
     "execution_count": 6,
     "metadata": {},
     "output_type": "execute_result"
    }
   ],
   "source": [
    "randomforest_regressor3.score(X_test, y_test)"
   ]
  },
  {
   "cell_type": "code",
   "execution_count": 10,
   "metadata": {},
   "outputs": [
    {
     "data": {
      "text/plain": [
       "array([[1.54300e+00, 1.53640e+00],\n",
       "       [1.07000e+00, 9.33000e+00],\n",
       "       [1.07200e+00, 7.91100e+00],\n",
       "       [1.49400e+00, 9.49970e+00],\n",
       "       [1.20000e+00, 1.10300e+01],\n",
       "       [1.95000e+00, 3.73900e+01],\n",
       "       [4.30000e+00, 3.76400e+01],\n",
       "       [5.20000e-01, 1.53420e+01],\n",
       "       [2.87000e+00, 2.64700e+01],\n",
       "       [4.16000e+00, 4.22250e+02],\n",
       "       [4.39000e+00, 9.68300e+01],\n",
       "       [1.19700e+00, 4.76320e+00],\n",
       "       [1.04900e+00, 1.67220e+00],\n",
       "       [1.63000e+00, 2.84440e+00],\n",
       "       [7.97000e-01, 7.44800e-01],\n",
       "       [1.91000e+00, 5.23300e+00],\n",
       "       [4.42000e+00, 8.03270e+01],\n",
       "       [3.05000e+00, 1.40340e+01],\n",
       "       [1.80600e+00, 2.29740e+00],\n",
       "       [2.68000e+00, 2.99000e+01],\n",
       "       [1.36000e+00, 3.38700e+01],\n",
       "       [1.17100e+00, 3.95050e+00],\n",
       "       [2.69000e+00, 6.00760e+00],\n",
       "       [1.01200e+00, 4.12570e+00],\n",
       "       [2.88000e+00, 4.10000e+00],\n",
       "       [4.93000e+00, 1.00000e+01],\n",
       "       [1.12000e+00, 1.13000e+00],\n",
       "       [1.35000e+00, 1.09120e+02],\n",
       "       [9.13000e-01, 3.27660e+00],\n",
       "       [2.73000e+00, 8.42000e+00],\n",
       "       [1.72400e+00, 5.67690e+00],\n",
       "       [1.55000e+00, 9.50000e+01],\n",
       "       [1.57900e+00, 4.14610e+00],\n",
       "       [4.30000e-01, 3.16000e+00],\n",
       "       [1.69000e-01, 8.38700e+00],\n",
       "       [1.53800e+00, 4.55400e+00],\n",
       "       [2.70000e+00, 3.12000e-02],\n",
       "       [1.19300e+00, 6.38100e-01],\n",
       "       [3.37100e+00, 3.59110e+00],\n",
       "       [1.40000e+00, 6.73000e+00],\n",
       "       [1.14100e+00, 7.08460e+00],\n",
       "       [3.30000e+00, 1.23000e+01],\n",
       "       [1.14300e+00, 7.04080e+00],\n",
       "       [1.61700e+00, 1.61390e+00],\n",
       "       [1.48900e+00, 2.96840e+00],\n",
       "       [2.13400e+00, 2.39176e+01],\n",
       "       [1.80500e+00, 2.35440e+00],\n",
       "       [1.56000e+00, 6.21800e+01],\n",
       "       [4.67000e+00, 3.30000e+01],\n",
       "       [1.65100e+00, 6.18560e+00],\n",
       "       [4.21000e+00, 3.37400e+01],\n",
       "       [1.44800e+00, 4.40840e+00],\n",
       "       [2.50000e+00, 3.16390e+01],\n",
       "       [2.31200e+00, 5.45570e+00],\n",
       "       [1.50000e+00, 9.41040e+00],\n",
       "       [4.10000e+00, 1.69230e+02],\n",
       "       [7.11000e-01, 4.31440e+00],\n",
       "       [1.82200e+00, 5.73030e+00],\n",
       "       [4.79000e+00, 1.12710e+02],\n",
       "       [2.05300e+00, 2.68300e+00],\n",
       "       [2.15900e+00, 9.83000e+00],\n",
       "       [2.11600e+00, 9.69900e+00],\n",
       "       [1.54700e+00, 5.18160e+00],\n",
       "       [4.62000e-01, 4.01600e+00],\n",
       "       [1.70000e+00, 1.51160e+01],\n",
       "       [8.00000e-01, 6.00000e+00],\n",
       "       [2.56600e+00, 1.38000e+01],\n",
       "       [9.00000e-01, 7.40000e+00],\n",
       "       [1.65500e+00, 6.53200e+00],\n",
       "       [2.25800e+00, 1.88300e+00],\n",
       "       [2.92000e+00, 1.89400e+01],\n",
       "       [1.57000e+00, 1.61810e+01],\n",
       "       [2.72700e+00, 1.02000e+01],\n",
       "       [2.22000e+00, 1.48470e+02],\n",
       "       [1.67000e+00, 6.46000e+00],\n",
       "       [4.62000e+00, 3.81940e+02],\n",
       "       [1.06500e+00, 7.23480e+00],\n",
       "       [5.67000e-01, 4.34200e+00],\n",
       "       [1.54300e+00, 1.70110e+01],\n",
       "       [3.74000e+00, 4.87350e+01],\n",
       "       [8.90000e-01, 2.05260e+00],\n",
       "       [1.04000e+00, 9.52000e+00],\n",
       "       [2.16000e+00, 2.18380e+00],\n",
       "       [1.48000e+00, 1.61400e+00],\n",
       "       [2.22000e+00, 2.24090e+00],\n",
       "       [1.01600e+00, 2.37600e+00],\n",
       "       [2.78000e+00, 5.68000e+00],\n",
       "       [2.43000e+00, 8.56140e+01],\n",
       "       [1.01000e+00, 7.07000e+00],\n",
       "       [1.31000e+00, 9.91000e+00],\n",
       "       [1.35000e+00, 7.87100e+01],\n",
       "       [1.71000e+00, 5.23040e+00],\n",
       "       [1.57300e+00, 7.10890e+00],\n",
       "       [7.66000e-01, 4.84260e+00],\n",
       "       [3.92000e+00, 9.50000e+00],\n",
       "       [5.39000e-01, 6.29310e+00],\n",
       "       [2.25000e+00, 9.50000e+00],\n",
       "       [1.57300e+00, 1.27333e+01],\n",
       "       [1.10800e+00, 3.56240e+00],\n",
       "       [4.64000e+00, 4.06940e+01]])"
      ]
     },
     "execution_count": 10,
     "metadata": {},
     "output_type": "execute_result"
    }
   ],
   "source": [
    "randomforest_regressor3.predict(X_test[0:100])"
   ]
  },
  {
   "cell_type": "code",
   "execution_count": 9,
   "metadata": {},
   "outputs": [
    {
     "data": {
      "text/html": [
       "<div>\n",
       "<style scoped>\n",
       "    .dataframe tbody tr th:only-of-type {\n",
       "        vertical-align: middle;\n",
       "    }\n",
       "\n",
       "    .dataframe tbody tr th {\n",
       "        vertical-align: top;\n",
       "    }\n",
       "\n",
       "    .dataframe thead th {\n",
       "        text-align: right;\n",
       "    }\n",
       "</style>\n",
       "<table border=\"1\" class=\"dataframe\">\n",
       "  <thead>\n",
       "    <tr style=\"text-align: right;\">\n",
       "      <th></th>\n",
       "      <th>mag</th>\n",
       "      <th>depth</th>\n",
       "    </tr>\n",
       "  </thead>\n",
       "  <tbody>\n",
       "    <tr>\n",
       "      <th>218604</th>\n",
       "      <td>0.46</td>\n",
       "      <td>1.910</td>\n",
       "    </tr>\n",
       "    <tr>\n",
       "      <th>1599636</th>\n",
       "      <td>0.90</td>\n",
       "      <td>16.400</td>\n",
       "    </tr>\n",
       "    <tr>\n",
       "      <th>3703199</th>\n",
       "      <td>0.69</td>\n",
       "      <td>8.000</td>\n",
       "    </tr>\n",
       "    <tr>\n",
       "      <th>812369</th>\n",
       "      <td>2.19</td>\n",
       "      <td>9.018</td>\n",
       "    </tr>\n",
       "    <tr>\n",
       "      <th>1412766</th>\n",
       "      <td>1.30</td>\n",
       "      <td>5.000</td>\n",
       "    </tr>\n",
       "    <tr>\n",
       "      <th>...</th>\n",
       "      <td>...</td>\n",
       "      <td>...</td>\n",
       "    </tr>\n",
       "    <tr>\n",
       "      <th>1920489</th>\n",
       "      <td>0.20</td>\n",
       "      <td>8.000</td>\n",
       "    </tr>\n",
       "    <tr>\n",
       "      <th>852063</th>\n",
       "      <td>2.50</td>\n",
       "      <td>10.000</td>\n",
       "    </tr>\n",
       "    <tr>\n",
       "      <th>481474</th>\n",
       "      <td>1.94</td>\n",
       "      <td>8.630</td>\n",
       "    </tr>\n",
       "    <tr>\n",
       "      <th>595183</th>\n",
       "      <td>1.03</td>\n",
       "      <td>4.856</td>\n",
       "    </tr>\n",
       "    <tr>\n",
       "      <th>3479446</th>\n",
       "      <td>4.10</td>\n",
       "      <td>62.980</td>\n",
       "    </tr>\n",
       "  </tbody>\n",
       "</table>\n",
       "<p>100 rows × 2 columns</p>\n",
       "</div>"
      ],
      "text/plain": [
       "          mag   depth\n",
       "218604   0.46   1.910\n",
       "1599636  0.90  16.400\n",
       "3703199  0.69   8.000\n",
       "812369   2.19   9.018\n",
       "1412766  1.30   5.000\n",
       "...       ...     ...\n",
       "1920489  0.20   8.000\n",
       "852063   2.50  10.000\n",
       "481474   1.94   8.630\n",
       "595183   1.03   4.856\n",
       "3479446  4.10  62.980\n",
       "\n",
       "[100 rows x 2 columns]"
      ]
     },
     "execution_count": 9,
     "metadata": {},
     "output_type": "execute_result"
    }
   ],
   "source": [
    "y_test[0:100]"
   ]
  }
 ],
 "metadata": {
  "kernelspec": {
   "display_name": "Python 3",
   "language": "python",
   "name": "python3"
  },
  "language_info": {
   "codemirror_mode": {
    "name": "ipython",
    "version": 3
   },
   "file_extension": ".py",
   "mimetype": "text/x-python",
   "name": "python",
   "nbconvert_exporter": "python",
   "pygments_lexer": "ipython3",
   "version": "3.11.5"
  }
 },
 "nbformat": 4,
 "nbformat_minor": 2
}
